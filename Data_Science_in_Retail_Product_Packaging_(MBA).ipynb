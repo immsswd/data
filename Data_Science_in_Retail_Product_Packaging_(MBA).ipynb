{
  "nbformat": 4,
  "nbformat_minor": 0,
  "metadata": {
    "colab": {
      "name": "Data Science in Retail_Product Packaging (MBA).ipynb",
      "provenance": [],
      "collapsed_sections": [],
      "authorship_tag": "ABX9TyP4RzndxFPaqZRJl/h6e93D",
      "include_colab_link": true
    },
    "kernelspec": {
      "name": "python3",
      "display_name": "Python 3"
    },
    "language_info": {
      "name": "python"
    }
  },
  "cells": [
    {
      "cell_type": "markdown",
      "metadata": {
        "id": "view-in-github",
        "colab_type": "text"
      },
      "source": [
        "<a href=\"https://colab.research.google.com/github/immsswd/data_science/blob/main/Data_Science_in_Retail_Product_Packaging_(MBA).ipynb\" target=\"_parent\"><img src=\"https://colab.research.google.com/assets/colab-badge.svg\" alt=\"Open In Colab\"/></a>"
      ]
    },
    {
      "cell_type": "code",
      "metadata": {
        "id": "l5uFh0x7Y_k1"
      },
      "source": [
        "%load_ext rpy2.ipython"
      ],
      "execution_count": null,
      "outputs": []
    },
    {
      "cell_type": "code",
      "metadata": {
        "id": "HyDv3zcbYuHR"
      },
      "source": [
        "%%R\n",
        "install.packages(\"arules\")"
      ],
      "execution_count": null,
      "outputs": []
    },
    {
      "cell_type": "code",
      "metadata": {
        "colab": {
          "base_uri": "https://localhost:8080/"
        },
        "id": "wKcXQAPFZjF5",
        "outputId": "b9c89a23-2e84-429a-829c-f59ed90dc1d0"
      },
      "source": [
        "%%R\n",
        "library(arules)"
      ],
      "execution_count": null,
      "outputs": [
        {
          "output_type": "stream",
          "text": [
            "R[write to console]: Loading required package: Matrix\n",
            "\n",
            "R[write to console]: \n",
            "Attaching package: ‘arules’\n",
            "\n",
            "\n",
            "R[write to console]: The following objects are masked from ‘package:base’:\n",
            "\n",
            "    abbreviate, write\n",
            "\n",
            "\n"
          ],
          "name": "stderr"
        }
      ]
    },
    {
      "cell_type": "code",
      "metadata": {
        "id": "Rbm5ovvyakQj",
        "colab": {
          "base_uri": "https://localhost:8080/"
        },
        "outputId": "0e621d61-5b81-4776-ee63-1d6f37ed39b3"
      },
      "source": [
        "%%R\n",
        "transaksi_tabular <- read.transactions(file=\"https://storage.googleapis.com/dqlab-dataset/transaksi_dqlab_retail.tsv\", format=\"single\", sep=\"\\t\", cols=c(1,2), skip=1)\n",
        "transaksi_tabular"
      ],
      "execution_count": 19,
      "outputs": [
        {
          "output_type": "stream",
          "text": [
            "transactions in sparse format with\n",
            " 3450 transactions (rows) and\n",
            " 69 items (columns)\n"
          ],
          "name": "stdout"
        }
      ]
    },
    {
      "cell_type": "code",
      "metadata": {
        "id": "ELAXAB4aezFu"
      },
      "source": [
        "%%R\n",
        "write(transaksi_tabular, file=\"test_project_retail_1.txt\", sep = \",\")"
      ],
      "execution_count": 21,
      "outputs": []
    },
    {
      "cell_type": "markdown",
      "metadata": {
        "id": "A2_Wfc55dj2K"
      },
      "source": [
        "Objektif: Statistik Top 10 Product:"
      ]
    },
    {
      "cell_type": "code",
      "metadata": {
        "colab": {
          "base_uri": "https://localhost:8080/"
        },
        "id": "VBPC9KBhdiBD",
        "outputId": "138a8124-4f87-44f5-f5b5-800627b1216f"
      },
      "source": [
        "%%R\n",
        "# menampilkan itemFrequency dari data\n",
        "data_top <- itemFrequency(transaksi_tabular, type=\"absolute\")\n",
        "\n",
        "# sorting data per product dari besar ke kecil\n",
        "data_top <- sort(data_top, decreasing=TRUE)\n",
        "\n",
        "# Slicing hanya Top 10 saja\n",
        "data_top <- data_top[1:10]\n",
        "\n",
        "print(data_top)\n",
        "#names(data_top)"
      ],
      "execution_count": 23,
      "outputs": [
        {
          "output_type": "stream",
          "text": [
            "             Shampo Biasa             Serum Vitamin         Baju Batik Wanita \n",
            "                     2075                      1685                      1312 \n",
            "        Baju Kemeja Putih      Celana Jogger Casual               Cover Koper \n",
            "                     1255                      1136                      1086 \n",
            "       Sepatu Sandal Anak Tali Pinggang Gesper Pria       Sepatu Sport merk Z \n",
            "                     1062                      1003                       888 \n",
            "             Wedges Hitam \n",
            "                      849 \n",
            " [1] \"Shampo Biasa\"              \"Serum Vitamin\"            \n",
            " [3] \"Baju Batik Wanita\"         \"Baju Kemeja Putih\"        \n",
            " [5] \"Celana Jogger Casual\"      \"Cover Koper\"              \n",
            " [7] \"Sepatu Sandal Anak\"        \"Tali Pinggang Gesper Pria\"\n",
            " [9] \"Sepatu Sport merk Z\"       \"Wedges Hitam\"             \n"
          ],
          "name": "stdout"
        }
      ]
    },
    {
      "cell_type": "markdown",
      "metadata": {
        "id": "9NzrNssQgWvw"
      },
      "source": [
        "Mengubah format data menjadi frame menggunakan function \n",
        "\n",
        "```\n",
        "data.frame()\n",
        "```\n",
        "\n"
      ]
    },
    {
      "cell_type": "code",
      "metadata": {
        "colab": {
          "base_uri": "https://localhost:8080/"
        },
        "id": "YrzgcndOgctw",
        "outputId": "00262832-b3e6-4eac-d0e4-0d5afcd5bdb2"
      },
      "source": [
        "%%R\n",
        "# mengubah ke dataframe\n",
        "data_top <- data.frame(\"Nama Produk\"=names(data_top), \"Jumlah\"=data_top, row.names = NULL)\n",
        "print(data_top)"
      ],
      "execution_count": 24,
      "outputs": [
        {
          "output_type": "stream",
          "text": [
            "                 Nama.Produk Jumlah\n",
            "1               Shampo Biasa   2075\n",
            "2              Serum Vitamin   1685\n",
            "3          Baju Batik Wanita   1312\n",
            "4          Baju Kemeja Putih   1255\n",
            "5       Celana Jogger Casual   1136\n",
            "6                Cover Koper   1086\n",
            "7         Sepatu Sandal Anak   1062\n",
            "8  Tali Pinggang Gesper Pria   1003\n",
            "9        Sepatu Sport merk Z    888\n",
            "10              Wedges Hitam    849\n"
          ],
          "name": "stdout"
        }
      ]
    }
  ]
}