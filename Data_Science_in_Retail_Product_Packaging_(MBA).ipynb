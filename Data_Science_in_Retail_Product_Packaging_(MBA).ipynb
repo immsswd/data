{
  "nbformat": 4,
  "nbformat_minor": 0,
  "metadata": {
    "colab": {
      "name": "Data Science in Retail_Product Packaging (MBA).ipynb",
      "provenance": [],
      "collapsed_sections": [],
      "authorship_tag": "ABX9TyNxHc8IiVGIVGWj+i1zRRn7",
      "include_colab_link": true
    },
    "kernelspec": {
      "name": "python3",
      "display_name": "Python 3"
    },
    "language_info": {
      "name": "python"
    }
  },
  "cells": [
    {
      "cell_type": "markdown",
      "metadata": {
        "id": "view-in-github",
        "colab_type": "text"
      },
      "source": [
        "<a href=\"https://colab.research.google.com/github/immsswd/data_science/blob/main/Data_Science_in_Retail_Product_Packaging_(MBA).ipynb\" target=\"_parent\"><img src=\"https://colab.research.google.com/assets/colab-badge.svg\" alt=\"Open In Colab\"/></a>"
      ]
    },
    {
      "cell_type": "code",
      "metadata": {
        "id": "l5uFh0x7Y_k1"
      },
      "source": [
        "%load_ext rpy2.ipython"
      ],
      "execution_count": null,
      "outputs": []
    },
    {
      "cell_type": "markdown",
      "metadata": {
        "id": "4b-6Ns57i8yF"
      },
      "source": [
        "Untuk memulai kode dengan **R** harus didahului dengan %%R, untuk menginisiasi bahwa kode akan menggunakan bahasa R"
      ]
    },
    {
      "cell_type": "code",
      "metadata": {
        "id": "HyDv3zcbYuHR"
      },
      "source": [
        "%%R\n",
        "# instal library association rules/arules\n",
        "install.packages(\"arules\")"
      ],
      "execution_count": null,
      "outputs": []
    },
    {
      "cell_type": "code",
      "metadata": {
        "id": "wKcXQAPFZjF5"
      },
      "source": [
        "%%R\n",
        "library(arules)"
      ],
      "execution_count": null,
      "outputs": []
    },
    {
      "cell_type": "code",
      "metadata": {
        "id": "Rbm5ovvyakQj"
      },
      "source": [
        "%%R\n",
        "transaksi_tabular <- read.transactions(file=\"https://storage.googleapis.com/dqlab-dataset/transaksi_dqlab_retail.tsv\", format=\"single\", sep=\"\\t\", cols=c(1,2), skip=1)\n",
        "transaksi_tabular"
      ],
      "execution_count": null,
      "outputs": []
    },
    {
      "cell_type": "code",
      "metadata": {
        "id": "ELAXAB4aezFu"
      },
      "source": [
        "%%R\n",
        "write(transaksi_tabular, file=\"test_project_retail_1.txt\", sep = \",\")"
      ],
      "execution_count": 21,
      "outputs": []
    },
    {
      "cell_type": "markdown",
      "metadata": {
        "id": "A2_Wfc55dj2K"
      },
      "source": [
        "**Objektif 1**: Statistik ***Top 10*** Product:"
      ]
    },
    {
      "cell_type": "code",
      "metadata": {
        "colab": {
          "base_uri": "https://localhost:8080/"
        },
        "id": "VBPC9KBhdiBD",
        "outputId": "c1afb213-500d-46ba-815f-30ed5f2deb9e"
      },
      "source": [
        "%%R\n",
        "# menampilkan itemFrequency dari data\n",
        "data_top <- itemFrequency(transaksi_tabular, type=\"absolute\")\n",
        "\n",
        "# sorting data per product dari besar ke kecil\n",
        "data_top <- sort(data_top, decreasing=TRUE)\n",
        "\n",
        "# Slicing hanya Top 10 saja\n",
        "data_top <- data_top[1:10]\n",
        "\n",
        "print(data_top)\n",
        "#names(data_top)"
      ],
      "execution_count": 30,
      "outputs": [
        {
          "output_type": "stream",
          "text": [
            "             Shampo Biasa             Serum Vitamin         Baju Batik Wanita \n",
            "                     2075                      1685                      1312 \n",
            "        Baju Kemeja Putih      Celana Jogger Casual               Cover Koper \n",
            "                     1255                      1136                      1086 \n",
            "       Sepatu Sandal Anak Tali Pinggang Gesper Pria       Sepatu Sport merk Z \n",
            "                     1062                      1003                       888 \n",
            "             Wedges Hitam \n",
            "                      849 \n"
          ],
          "name": "stdout"
        }
      ]
    },
    {
      "cell_type": "markdown",
      "metadata": {
        "id": "9NzrNssQgWvw"
      },
      "source": [
        "Mengubah format data menjadi frame menggunakan function \n",
        "\n",
        "```\n",
        "data.frame()\n",
        "```\n",
        "Agar lebih mudah dibaca untuk mendapatkan insight dari data\n"
      ]
    },
    {
      "cell_type": "code",
      "metadata": {
        "colab": {
          "base_uri": "https://localhost:8080/"
        },
        "id": "YrzgcndOgctw",
        "outputId": "9e8bb922-6816-4ee3-930d-ad3853ea0039"
      },
      "source": [
        "%%R\n",
        "# mengubah ke dataframe\n",
        "data_top <- data.frame(\"Nama Produk\"=names(data_top), \"Jumlah\"=data_top, row.names = NULL)\n",
        "print(data_top)"
      ],
      "execution_count": 31,
      "outputs": [
        {
          "output_type": "stream",
          "text": [
            "                 Nama.Produk Jumlah\n",
            "1               Shampo Biasa   2075\n",
            "2              Serum Vitamin   1685\n",
            "3          Baju Batik Wanita   1312\n",
            "4          Baju Kemeja Putih   1255\n",
            "5       Celana Jogger Casual   1136\n",
            "6                Cover Koper   1086\n",
            "7         Sepatu Sandal Anak   1062\n",
            "8  Tali Pinggang Gesper Pria   1003\n",
            "9        Sepatu Sport merk Z    888\n",
            "10              Wedges Hitam    849\n"
          ],
          "name": "stdout"
        }
      ]
    },
    {
      "cell_type": "markdown",
      "metadata": {
        "id": "_jM5E686kcdB"
      },
      "source": [
        "**Objektif 2**: Statistik ***Bottom10*** Produk (yaitu produk-produk yang paling kurang populuer dari bawah), Perbedaan dari ***Top 10*** adalah:\n",
        "\n",
        "\n",
        "```\n",
        "# sorting data per product dari besar ke kecil\n",
        "data_top <- sort(data_top, decreasing=FALSE)\n",
        "```\n",
        "`decreasing` nya = `FALSE`\n"
      ]
    },
    {
      "cell_type": "code",
      "metadata": {
        "colab": {
          "base_uri": "https://localhost:8080/"
        },
        "id": "H-y6FCrQkZyi",
        "outputId": "d5750561-692b-4146-a59c-054f05cc5aa2"
      },
      "source": [
        "%%R\n",
        "# menampilkan itemFrequency dari data\n",
        "data_bottom <- itemFrequency(transaksi_tabular, type=\"absolute\")\n",
        "\n",
        "# sorting data per product dari besar ke kecil\n",
        "data_bottom <- sort(data_bottom, decreasing=FALSE)\n",
        "\n",
        "# Slicing hanya Top 10 saja\n",
        "data_bottom <- data_bottom[1:10]\n",
        "\n",
        "print(data_bottom)\n",
        "#names(data_bottom)"
      ],
      "execution_count": 35,
      "outputs": [
        {
          "output_type": "stream",
          "text": [
            "   Celana Jeans Sobek Pria               Tas Kosmetik \n",
            "                         9                         11 \n",
            "              Stripe Pants                   Pelembab \n",
            "                        19                         24 \n",
            "    Tali Ban Ikat Pinggang Baju Renang Pria Anak-anak \n",
            "                        27                         32 \n",
            "                  Hair Dye         Atasan Baju Belang \n",
            "                        46                         56 \n",
            "Tas Sekolah Anak Perempuan              Dompet Unisex \n",
            "                        71                         75 \n"
          ],
          "name": "stdout"
        }
      ]
    },
    {
      "cell_type": "code",
      "metadata": {
        "colab": {
          "base_uri": "https://localhost:8080/"
        },
        "id": "ghJEcvAyluUw",
        "outputId": "07cda16c-ef37-4b02-8ab4-b05816c1cf83"
      },
      "source": [
        "# Agar lebih enak dibaca lagi, kita ubah data ke format frame\n",
        "%%R\n",
        "# mengubah ke dataframe\n",
        "data_bottom <- data.frame(\"Nama Produk\"=names(data_bottom), \"Jumlah\"=data_bottom, row.names = NULL)\n",
        "print(data_bottom)"
      ],
      "execution_count": 36,
      "outputs": [
        {
          "output_type": "stream",
          "text": [
            "                  Nama.Produk Jumlah\n",
            "1     Celana Jeans Sobek Pria      9\n",
            "2                Tas Kosmetik     11\n",
            "3                Stripe Pants     19\n",
            "4                    Pelembab     24\n",
            "5      Tali Ban Ikat Pinggang     27\n",
            "6  Baju Renang Pria Anak-anak     32\n",
            "7                    Hair Dye     46\n",
            "8          Atasan Baju Belang     56\n",
            "9  Tas Sekolah Anak Perempuan     71\n",
            "10              Dompet Unisex     75\n"
          ],
          "name": "stdout"
        }
      ]
    },
    {
      "cell_type": "markdown",
      "metadata": {
        "id": "TcafE3rLnQOd"
      },
      "source": [
        "Berikut adalah Permintaan kombinasi produk yang menarik dari Client:\n",
        "\n",
        "*   Memiliki asosiasi atau hubungan erat.\n",
        "*   Kombinasi produk minimal 2 item, dan maksimum 3 item.\n",
        "*   Kombinasi produk itu muncul setidaknya 10 dari dari seluruh transaksi.\n",
        "*   Memiliki tingkat confidence minimal 50 persen."
      ]
    }
  ]
}