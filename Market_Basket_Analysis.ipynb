{
  "nbformat": 4,
  "nbformat_minor": 0,
  "metadata": {
    "colab": {
      "name": "Market Basket Analysis.ipynb",
      "provenance": [],
      "authorship_tag": "ABX9TyPLXHtNtKiPZ8iMwxLOo0oy",
      "include_colab_link": true
    },
    "kernelspec": {
      "name": "python3",
      "display_name": "Python 3"
    },
    "language_info": {
      "name": "python"
    }
  },
  "cells": [
    {
      "cell_type": "markdown",
      "metadata": {
        "id": "view-in-github",
        "colab_type": "text"
      },
      "source": [
        "<a href=\"https://colab.research.google.com/github/immsswd/data_science/blob/main/Market_Basket_Analysis.ipynb\" target=\"_parent\"><img src=\"https://colab.research.google.com/assets/colab-badge.svg\" alt=\"Open In Colab\"/></a>"
      ]
    },
    {
      "cell_type": "markdown",
      "metadata": {
        "id": "UsNWfAO_ApEL"
      },
      "source": [
        "# Market Basket Analysis\n",
        "Bab pertama ini menjelaskan apa dan kenapa Market Basket Analysis yang akan dimanfaatkan pada bisnis ritel untuk menemukan product packaging yang tepat dan mengurangi masalah *inventory*.\n",
        "\n",
        "Salah satu inovasi bisnis di bidang ritel adalah mencari asosiasi atau hubungan antar produk dari data transaksi penjualan yang bertujuan untuk:\n",
        "\n",
        "* dipaketkan dan dijual bersamaan.\n",
        "* memberikan rekomendasi produk kepada seseorang.\n",
        "* menyusun rak display.\n",
        "* menyusun halaman produk e-commerce.\n",
        "\n",
        "Semua hal ini bertujuan untuk meningkatkan penjualan sekaligus memecahkan masalah *inventory* – karena produk yang tidak begitu laku jika dipasangkan dengan tepat akan lebih\n",
        "menarik dan punya kemungkinan besar dibeli dalam satu paket. Proses ini merupakan\n",
        "proses analisa yang disebut dengan **Market Basket Analysis** (**MBA**)."
      ]
    },
    {
      "cell_type": "markdown",
      "metadata": {
        "id": "d7sBa6sNBWdv"
      },
      "source": [
        "# Algoritma Apriori\n",
        "Algoritma apriori yang merupakan algoritma di\n",
        "kategori **association rules** (**arules**) pada literatur machine learning. Algoritma ini akan menghasilkan kombinasi-kombinasi yang kemudian disusun dalam bentuk rule *\\\"Jika membeli ini.... maka akan juga membeli... \"*.\n",
        "\n",
        "Nah, untuk mendapatkan gambaran berapa kombinasi produk yang mungkin terjadi cobalah\n",
        "jalankan code berikut sehingga Anda akan melihat hasil sebagai berikut."
      ]
    },
    {
      "cell_type": "code",
      "metadata": {
        "colab": {
          "base_uri": "https://localhost:8080/"
        },
        "id": "1Up0JLHUAl_W",
        "outputId": "7b5219d9-38d8-47da-87dd-cb1a15ae7b3c"
      },
      "source": [
        "%load_ext rpy2.ipython"
      ],
      "execution_count": null,
      "outputs": [
        {
          "output_type": "stream",
          "text": [
            "The rpy2.ipython extension is already loaded. To reload it, use:\n",
            "  %reload_ext rpy2.ipython\n"
          ],
          "name": "stdout"
        }
      ]
    },
    {
      "cell_type": "code",
      "metadata": {
        "id": "6tZh-jnJCn0N"
      },
      "source": [
        "%%R\n",
        "# install packages arules\n",
        "install.packages(\"arules\")"
      ],
      "execution_count": null,
      "outputs": []
    },
    {
      "cell_type": "code",
      "metadata": {
        "id": "JTOHGjPPDEj3",
        "colab": {
          "base_uri": "https://localhost:8080/"
        },
        "outputId": "fdc14ea3-a245-41c7-dc21-4b0a1f51b947"
      },
      "source": [
        "%%R\n",
        "#Menggunakan library arules\n",
        "library(arules)\n",
        "#Membaca transaksi dari file data_transaksi.txt\n",
        "transaksi <- read.transactions(file=\"https://storage.googleapis.com/dqlab-dataset/data_transaksi.txt\", format=\"single\", sep=\"\\t\", cols=c(1,2), skip=1)\n",
        "#Menampilkan jumlah kombinasi dari produk yang terdapat pada daftar transaksi yang ada\n",
        "inspect(apriori(transaksi, parameter = list(support=.1, minlen=2, target='frequent itemsets')))"
      ],
      "execution_count": 11,
      "outputs": [
        {
          "output_type": "stream",
          "text": [
            "Apriori\n",
            "\n",
            "Parameter specification:\n",
            " confidence minval smax arem  aval originalSupport maxtime support minlen\n",
            "         NA    0.1    1 none FALSE            TRUE       5     0.1      2\n",
            " maxlen            target  ext\n",
            "     10 frequent itemsets TRUE\n",
            "\n",
            "Algorithmic control:\n",
            " filter tree heap memopt load sort verbose\n",
            "    0.1 TRUE TRUE  FALSE TRUE    2    TRUE\n",
            "\n",
            "Absolute minimum support count: 1 \n",
            "\n",
            "set item appearances ...[0 item(s)] done [0.00s].\n",
            "set transactions ...[4 item(s), 10 transaction(s)] done [0.00s].\n",
            "sorting and recoding items ... [4 item(s)] done [0.00s].\n",
            "creating transaction tree ... done [0.00s].\n",
            "checking subsets of size 1 2 3 done [0.00s].\n",
            "sorting transactions ... done [0.00s].\n",
            "writing ... [9 set(s)] done [0.00s].\n",
            "creating S4 object  ... done [0.00s].\n",
            "    items                      support transIdenticalToItemsets count\n",
            "[1] {Gula,Pet Food}            0.1     0.0                      1    \n",
            "[2] {Gula,Sirup}               0.2     0.0                      2    \n",
            "[3] {Gula,Teh Celup}           0.3     0.2                      3    \n",
            "[4] {Pet Food,Sirup}           0.4     0.1                      4    \n",
            "[5] {Pet Food,Teh Celup}       0.3     0.1                      3    \n",
            "[6] {Sirup,Teh Celup}          0.4     0.1                      4    \n",
            "[7] {Gula,Pet Food,Sirup}      0.1     0.1                      1    \n",
            "[8] {Gula,Sirup,Teh Celup}     0.1     0.1                      1    \n",
            "[9] {Pet Food,Sirup,Teh Celup} 0.2     0.2                      2    \n"
          ],
          "name": "stdout"
        }
      ]
    },
    {
      "cell_type": "markdown",
      "metadata": {
        "id": "Zckx0PecEBG5"
      },
      "source": [
        "Terlihat ada sembilan kombinasi produk dengan nilai support adalah rasio dari kombinasi tersebut terhadap keseluruhan transaksi. Sebagai contoh, kombinasi `{Pet Food, Sirup}` memiliki support 0.4 yang artinya kombinasi ini terdapat di 4 dari 10 transaksi yang tercatat."
      ]
    }
  ]
}