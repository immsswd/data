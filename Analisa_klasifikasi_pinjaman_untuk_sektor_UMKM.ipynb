{
  "nbformat": 4,
  "nbformat_minor": 0,
  "metadata": {
    "colab": {
      "name": "Analisa_klasifikasi_pinjaman_untuk_sektor_UMKM.ipynb",
      "provenance": [],
      "authorship_tag": "ABX9TyNB4fIVY0anXT+AVKKh6knB",
      "include_colab_link": true
    },
    "kernelspec": {
      "name": "python3",
      "display_name": "Python 3"
    },
    "language_info": {
      "name": "python"
    }
  },
  "cells": [
    {
      "cell_type": "markdown",
      "metadata": {
        "id": "view-in-github",
        "colab_type": "text"
      },
      "source": [
        "<a href=\"https://colab.research.google.com/github/immsswd/data_science/blob/main/Analisa_klasifikasi_pinjaman_untuk_sektor_UMKM.ipynb\" target=\"_parent\"><img src=\"https://colab.research.google.com/assets/colab-badge.svg\" alt=\"Open In Colab\"/></a>"
      ]
    },
    {
      "cell_type": "markdown",
      "metadata": {
        "id": "But_tQ2d8frs"
      },
      "source": [
        "# Analisa Eksternal\n",
        "Analisa Klasifikasi Pinjaman Untuk Sektor UMKM, Sebelum dilakukannya pembacaan data, ada baiknya untuk mempersiapkan library apa saja yang akan digunakan untuk mengerjakan project pengklasifikasian rekomendasi tindak lanjut bagi pelanggan ini.\n",
        "\n",
        "Adapun library yang perlu dipersiapkan adalah:"
      ]
    },
    {
      "cell_type": "code",
      "metadata": {
        "id": "DW3zNnHZ9hx1"
      },
      "source": [
        "%load_ext rpy2.ipython"
      ],
      "execution_count": null,
      "outputs": []
    },
    {
      "cell_type": "code",
      "metadata": {
        "id": "clcdpesy7dBu"
      },
      "source": [
        "#set library\n",
        "library(ggplot2)\n",
        "library(RColorBrewer)\n",
        "\n",
        "data = read.csv(\"project.csv\")"
      ],
      "execution_count": null,
      "outputs": []
    },
    {
      "cell_type": "markdown",
      "metadata": {
        "id": "b4QG6Xsp-fX6"
      },
      "source": [
        "# Membaca Data 1\n",
        "Setelah data berhasil di-*import*, cobalah untuk melihat 6 baris pertama data tersebut dan keluarkan semua nama kolom yang ada pada data tersebut.\n",
        "\n",
        "**Tugas**:\n",
        "\n",
        "1. Keluarkan 6 baris pertama data yang baru saja dipanggil\n",
        "…(data)\n",
        "2. Keluarkan semua nama kolom pada data yang baru saja dipanggil"
      ]
    },
    {
      "cell_type": "code",
      "metadata": {
        "id": "DekfmsTtNKvc"
      },
      "source": [
        "head(data)\n",
        "colnames(data)"
      ],
      "execution_count": null,
      "outputs": []
    },
    {
      "cell_type": "markdown",
      "metadata": {
        "id": "sjkJE4A7NNFQ"
      },
      "source": [
        "# Membaca Data 2\n",
        "Pada R kita dapat melihat statistik deskriptif pada data kita, lebih spesifik lagi bisa dilakukan\n",
        "pada kolom tertentu pada tabel data yang kita punya. Diperhatikan sintak berikut:"
      ]
    },
    {
      "cell_type": "code",
      "metadata": {
        "id": "1PqYOsJbNUIl"
      },
      "source": [
        "summary(data$OSL)\n",
        "str(data)"
      ],
      "execution_count": null,
      "outputs": []
    },
    {
      "cell_type": "markdown",
      "metadata": {
        "id": "hphMuRQ8NZpd"
      },
      "source": [
        "Dapat dipahami bahwa untuk mengambil kolom tertentu pada suatu tabel, kita dapat\n",
        "menggunakan simbol **$**. Pada perintah di atas apa yang dapat kamu simpulkan?"
      ]
    },
    {
      "cell_type": "markdown",
      "metadata": {
        "id": "mMdxrDdHNgi8"
      },
      "source": [
        "# Membaca Data 3\n",
        "Pada data yang kamu miliki, sebenarnya kamu tidak memerlukan nama pelanggan untuk diberikan rekomendasi. Atau dengan kata lain penanda pelanggan untuk diberikan rekomendasi cukup dengan melihat no_kontrak pelanggan itu saja.\n",
        "\n",
        "**Tugas:**\n",
        "\n",
        "Hapuslah kolom nama pada data yang kamu miliki."
      ]
    }
  ]
}