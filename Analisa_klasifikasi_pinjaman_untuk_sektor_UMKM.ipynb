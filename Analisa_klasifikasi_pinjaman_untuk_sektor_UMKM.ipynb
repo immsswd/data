{
  "nbformat": 4,
  "nbformat_minor": 0,
  "metadata": {
    "colab": {
      "name": "Analisa_klasifikasi_pinjaman_untuk_sektor_UMKM.ipynb",
      "provenance": [],
      "authorship_tag": "ABX9TyMRJ4EQOa1zlAWQiYo7krP+",
      "include_colab_link": true
    },
    "kernelspec": {
      "name": "python3",
      "display_name": "Python 3"
    },
    "language_info": {
      "name": "python"
    }
  },
  "cells": [
    {
      "cell_type": "markdown",
      "metadata": {
        "id": "view-in-github",
        "colab_type": "text"
      },
      "source": [
        "<a href=\"https://colab.research.google.com/github/immsswd/data_science/blob/main/Analisa_klasifikasi_pinjaman_untuk_sektor_UMKM.ipynb\" target=\"_parent\"><img src=\"https://colab.research.google.com/assets/colab-badge.svg\" alt=\"Open In Colab\"/></a>"
      ]
    },
    {
      "cell_type": "markdown",
      "metadata": {
        "id": "But_tQ2d8frs"
      },
      "source": [
        "# Analisa Eksternal\n",
        "Analisa Klasifikasi Pinjaman Untuk Sektor UMKM, Sebelum dilakukannya pembacaan data, ada baiknya untuk mempersiapkan library apa saja yang akan digunakan untuk mengerjakan project pengklasifikasian rekomendasi tindak lanjut bagi pelanggan ini.\n",
        "\n",
        "Adapun library yang perlu dipersiapkan adalah:"
      ]
    },
    {
      "cell_type": "code",
      "metadata": {
        "id": "DW3zNnHZ9hx1"
      },
      "source": [
        "%load_ext rpy2.ipython"
      ],
      "execution_count": 2,
      "outputs": []
    },
    {
      "cell_type": "code",
      "metadata": {
        "id": "clcdpesy7dBu"
      },
      "source": [
        "#set library\n",
        "library(ggplot2)\n",
        "library(RColorBrewer)"
      ],
      "execution_count": null,
      "outputs": []
    }
  ]
}