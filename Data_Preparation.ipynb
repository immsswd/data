{
  "nbformat": 4,
  "nbformat_minor": 5,
  "metadata": {
    "kernelspec": {
      "display_name": "R",
      "language": "R",
      "name": "ir"
    },
    "language_info": {
      "codemirror_mode": "r",
      "file_extension": ".r",
      "mimetype": "text/x-r-source",
      "name": "R",
      "pygments_lexer": "r",
      "version": "3.6.1"
    },
    "colab": {
      "name": "1_Data Preparation.ipynb",
      "provenance": [],
      "toc_visible": true,
      "include_colab_link": true
    }
  },
  "cells": [
    {
      "cell_type": "markdown",
      "metadata": {
        "id": "view-in-github",
        "colab_type": "text"
      },
      "source": [
        "<a href=\"https://colab.research.google.com/github/immsswd/data_science/blob/main/1_Data_Preparation.ipynb\" target=\"_parent\"><img src=\"https://colab.research.google.com/assets/colab-badge.svg\" alt=\"Open In Colab\"/></a>"
      ]
    },
    {
      "cell_type": "markdown",
      "metadata": {
        "id": "tested-application"
      },
      "source": [
        "# Customer Segmentation - Data Preparation"
      ],
      "id": "tested-application"
    },
    {
      "cell_type": "markdown",
      "metadata": {
        "id": "forced-boating"
      },
      "source": [
        "## Membaca data dengan fungsi read.csv"
      ],
      "id": "forced-boating"
    },
    {
      "cell_type": "code",
      "metadata": {
        "id": "renewable-listing",
        "outputId": "605465a1-08b6-498b-b157-e2d32d8e34f5"
      },
      "source": [
        "pelanggan <- read.csv(\"https://storage.googleapis.com/dqlab-dataset/customer_segments.txt\", sep=\"\\t\")\n",
        "pelanggan[c(\"Jenis.Kelamin\",\"Umur\",\"Profesi\",\"Tipe.Residen\")]"
      ],
      "id": "renewable-listing",
      "execution_count": null,
      "outputs": [
        {
          "output_type": "display_data",
          "data": {
            "text/html": [
              "<table>\n",
              "<thead><tr><th scope=col>Jenis.Kelamin</th><th scope=col>Umur</th><th scope=col>Profesi</th><th scope=col>Tipe.Residen</th></tr></thead>\n",
              "<tbody>\n",
              "\t<tr><td>Pria            </td><td>58              </td><td>Wiraswasta      </td><td>Sector          </td></tr>\n",
              "\t<tr><td>Wanita          </td><td>14              </td><td>Pelajar         </td><td>Cluster         </td></tr>\n",
              "\t<tr><td>Pria            </td><td>48              </td><td>Professional    </td><td>Cluster         </td></tr>\n",
              "\t<tr><td>Pria            </td><td>53              </td><td>Professional    </td><td>Cluster         </td></tr>\n",
              "\t<tr><td>Wanita          </td><td>41              </td><td>Wiraswasta      </td><td>Cluster         </td></tr>\n",
              "\t<tr><td>Wanita          </td><td>24              </td><td>Professional    </td><td>Cluster         </td></tr>\n",
              "\t<tr><td>Pria            </td><td>64              </td><td>Wiraswasta      </td><td>Sector          </td></tr>\n",
              "\t<tr><td>Pria            </td><td>52              </td><td>Professional    </td><td>Cluster         </td></tr>\n",
              "\t<tr><td>Wanita          </td><td>29              </td><td>Professional    </td><td>Sector          </td></tr>\n",
              "\t<tr><td>Pria            </td><td>33              </td><td>Professional    </td><td>Cluster         </td></tr>\n",
              "\t<tr><td>Wanita          </td><td>50              </td><td>Professional    </td><td>Sector          </td></tr>\n",
              "\t<tr><td>Wanita          </td><td>49              </td><td>Professional    </td><td>Sector          </td></tr>\n",
              "\t<tr><td>Wanita          </td><td>64              </td><td>Wiraswasta      </td><td>Cluster         </td></tr>\n",
              "\t<tr><td>Pria            </td><td>60              </td><td>Wiraswasta      </td><td>Cluster         </td></tr>\n",
              "\t<tr><td>Wanita          </td><td>20              </td><td>Wiraswasta      </td><td>Cluster         </td></tr>\n",
              "\t<tr><td>Pria            </td><td>35              </td><td>Professional    </td><td>Cluster         </td></tr>\n",
              "\t<tr><td>Wanita          </td><td>32              </td><td>Ibu Rumah Tangga</td><td>Cluster         </td></tr>\n",
              "\t<tr><td>Wanita          </td><td>63              </td><td>Ibu Rumah Tangga</td><td>Cluster         </td></tr>\n",
              "\t<tr><td>Wanita          </td><td>32              </td><td>Wiraswasta      </td><td>Cluster         </td></tr>\n",
              "\t<tr><td>Wanita          </td><td>16              </td><td>Pelajar         </td><td>Sector          </td></tr>\n",
              "\t<tr><td>Wanita          </td><td>38              </td><td>Wiraswasta      </td><td>Cluster         </td></tr>\n",
              "\t<tr><td>Wanita          </td><td>52              </td><td>Professional    </td><td>Cluster         </td></tr>\n",
              "\t<tr><td>Pria            </td><td>34              </td><td>Professional    </td><td>Cluster         </td></tr>\n",
              "\t<tr><td>Wanita          </td><td>39              </td><td>Wiraswasta      </td><td>Cluster         </td></tr>\n",
              "\t<tr><td>Wanita          </td><td>29              </td><td>Wiraswasta      </td><td>Sector          </td></tr>\n",
              "\t<tr><td>Wanita          </td><td>55              </td><td>Professional    </td><td>Cluster         </td></tr>\n",
              "\t<tr><td>Wanita          </td><td>35              </td><td>Wiraswasta      </td><td>Cluster         </td></tr>\n",
              "\t<tr><td>Wanita          </td><td>40              </td><td>Ibu Rumah Tangga</td><td>Cluster         </td></tr>\n",
              "\t<tr><td>Wanita          </td><td>56              </td><td>Professional    </td><td>Cluster         </td></tr>\n",
              "\t<tr><td>Wanita          </td><td>46              </td><td>Ibu Rumah Tangga</td><td>Sector          </td></tr>\n",
              "\t<tr><td>Wanita          </td><td>19              </td><td>Mahasiswa       </td><td>Cluster         </td></tr>\n",
              "\t<tr><td>Wanita          </td><td>47              </td><td>Wiraswasta      </td><td>Sector          </td></tr>\n",
              "\t<tr><td>Wanita          </td><td>19              </td><td>Mahasiswa       </td><td>Cluster         </td></tr>\n",
              "\t<tr><td>Wanita          </td><td>21              </td><td>Wiraswasta      </td><td>Sector          </td></tr>\n",
              "\t<tr><td>Wanita          </td><td>39              </td><td>Professional    </td><td>Sector          </td></tr>\n",
              "\t<tr><td>Wanita          </td><td>30              </td><td>Wiraswasta      </td><td>Cluster         </td></tr>\n",
              "\t<tr><td>Wanita          </td><td>25              </td><td>Professional    </td><td>Sector          </td></tr>\n",
              "\t<tr><td>Wanita          </td><td>46              </td><td>Wiraswasta      </td><td>Sector          </td></tr>\n",
              "\t<tr><td>Wanita          </td><td>20              </td><td>Professional    </td><td>Cluster         </td></tr>\n",
              "\t<tr><td>Wanita          </td><td>14              </td><td>Pelajar         </td><td>Sector          </td></tr>\n",
              "\t<tr><td>Wanita          </td><td>24              </td><td>Ibu Rumah Tangga</td><td>Cluster         </td></tr>\n",
              "\t<tr><td>Wanita          </td><td>26              </td><td>Wiraswasta      </td><td>Cluster         </td></tr>\n",
              "\t<tr><td>Wanita          </td><td>31              </td><td>Professional    </td><td>Cluster         </td></tr>\n",
              "\t<tr><td>Wanita          </td><td>18              </td><td>Wiraswasta      </td><td>Cluster         </td></tr>\n",
              "\t<tr><td>Wanita          </td><td>22              </td><td>Professional    </td><td>Cluster         </td></tr>\n",
              "\t<tr><td>Wanita          </td><td>25              </td><td>Wiraswasta      </td><td>Sector          </td></tr>\n",
              "\t<tr><td>Wanita          </td><td>55              </td><td>Ibu Rumah Tangga</td><td>Cluster         </td></tr>\n",
              "\t<tr><td>Wanita          </td><td>45              </td><td>Wiraswasta      </td><td>Sector          </td></tr>\n",
              "\t<tr><td>Wanita          </td><td>33              </td><td>Ibu Rumah Tangga</td><td>Sector          </td></tr>\n",
              "\t<tr><td>Wanita          </td><td>55              </td><td>Wiraswasta      </td><td>Sector          </td></tr>\n",
              "</tbody>\n",
              "</table>\n"
            ],
            "text/latex": "\\begin{tabular}{r|llll}\n Jenis.Kelamin & Umur & Profesi & Tipe.Residen\\\\\n\\hline\n\t Pria             & 58               & Wiraswasta       & Sector          \\\\\n\t Wanita           & 14               & Pelajar          & Cluster         \\\\\n\t Pria             & 48               & Professional     & Cluster         \\\\\n\t Pria             & 53               & Professional     & Cluster         \\\\\n\t Wanita           & 41               & Wiraswasta       & Cluster         \\\\\n\t Wanita           & 24               & Professional     & Cluster         \\\\\n\t Pria             & 64               & Wiraswasta       & Sector          \\\\\n\t Pria             & 52               & Professional     & Cluster         \\\\\n\t Wanita           & 29               & Professional     & Sector          \\\\\n\t Pria             & 33               & Professional     & Cluster         \\\\\n\t Wanita           & 50               & Professional     & Sector          \\\\\n\t Wanita           & 49               & Professional     & Sector          \\\\\n\t Wanita           & 64               & Wiraswasta       & Cluster         \\\\\n\t Pria             & 60               & Wiraswasta       & Cluster         \\\\\n\t Wanita           & 20               & Wiraswasta       & Cluster         \\\\\n\t Pria             & 35               & Professional     & Cluster         \\\\\n\t Wanita           & 32               & Ibu Rumah Tangga & Cluster         \\\\\n\t Wanita           & 63               & Ibu Rumah Tangga & Cluster         \\\\\n\t Wanita           & 32               & Wiraswasta       & Cluster         \\\\\n\t Wanita           & 16               & Pelajar          & Sector          \\\\\n\t Wanita           & 38               & Wiraswasta       & Cluster         \\\\\n\t Wanita           & 52               & Professional     & Cluster         \\\\\n\t Pria             & 34               & Professional     & Cluster         \\\\\n\t Wanita           & 39               & Wiraswasta       & Cluster         \\\\\n\t Wanita           & 29               & Wiraswasta       & Sector          \\\\\n\t Wanita           & 55               & Professional     & Cluster         \\\\\n\t Wanita           & 35               & Wiraswasta       & Cluster         \\\\\n\t Wanita           & 40               & Ibu Rumah Tangga & Cluster         \\\\\n\t Wanita           & 56               & Professional     & Cluster         \\\\\n\t Wanita           & 46               & Ibu Rumah Tangga & Sector          \\\\\n\t Wanita           & 19               & Mahasiswa        & Cluster         \\\\\n\t Wanita           & 47               & Wiraswasta       & Sector          \\\\\n\t Wanita           & 19               & Mahasiswa        & Cluster         \\\\\n\t Wanita           & 21               & Wiraswasta       & Sector          \\\\\n\t Wanita           & 39               & Professional     & Sector          \\\\\n\t Wanita           & 30               & Wiraswasta       & Cluster         \\\\\n\t Wanita           & 25               & Professional     & Sector          \\\\\n\t Wanita           & 46               & Wiraswasta       & Sector          \\\\\n\t Wanita           & 20               & Professional     & Cluster         \\\\\n\t Wanita           & 14               & Pelajar          & Sector          \\\\\n\t Wanita           & 24               & Ibu Rumah Tangga & Cluster         \\\\\n\t Wanita           & 26               & Wiraswasta       & Cluster         \\\\\n\t Wanita           & 31               & Professional     & Cluster         \\\\\n\t Wanita           & 18               & Wiraswasta       & Cluster         \\\\\n\t Wanita           & 22               & Professional     & Cluster         \\\\\n\t Wanita           & 25               & Wiraswasta       & Sector          \\\\\n\t Wanita           & 55               & Ibu Rumah Tangga & Cluster         \\\\\n\t Wanita           & 45               & Wiraswasta       & Sector          \\\\\n\t Wanita           & 33               & Ibu Rumah Tangga & Sector          \\\\\n\t Wanita           & 55               & Wiraswasta       & Sector          \\\\\n\\end{tabular}\n",
            "text/markdown": "\n| Jenis.Kelamin | Umur | Profesi | Tipe.Residen |\n|---|---|---|---|\n| Pria             | 58               | Wiraswasta       | Sector           |\n| Wanita           | 14               | Pelajar          | Cluster          |\n| Pria             | 48               | Professional     | Cluster          |\n| Pria             | 53               | Professional     | Cluster          |\n| Wanita           | 41               | Wiraswasta       | Cluster          |\n| Wanita           | 24               | Professional     | Cluster          |\n| Pria             | 64               | Wiraswasta       | Sector           |\n| Pria             | 52               | Professional     | Cluster          |\n| Wanita           | 29               | Professional     | Sector           |\n| Pria             | 33               | Professional     | Cluster          |\n| Wanita           | 50               | Professional     | Sector           |\n| Wanita           | 49               | Professional     | Sector           |\n| Wanita           | 64               | Wiraswasta       | Cluster          |\n| Pria             | 60               | Wiraswasta       | Cluster          |\n| Wanita           | 20               | Wiraswasta       | Cluster          |\n| Pria             | 35               | Professional     | Cluster          |\n| Wanita           | 32               | Ibu Rumah Tangga | Cluster          |\n| Wanita           | 63               | Ibu Rumah Tangga | Cluster          |\n| Wanita           | 32               | Wiraswasta       | Cluster          |\n| Wanita           | 16               | Pelajar          | Sector           |\n| Wanita           | 38               | Wiraswasta       | Cluster          |\n| Wanita           | 52               | Professional     | Cluster          |\n| Pria             | 34               | Professional     | Cluster          |\n| Wanita           | 39               | Wiraswasta       | Cluster          |\n| Wanita           | 29               | Wiraswasta       | Sector           |\n| Wanita           | 55               | Professional     | Cluster          |\n| Wanita           | 35               | Wiraswasta       | Cluster          |\n| Wanita           | 40               | Ibu Rumah Tangga | Cluster          |\n| Wanita           | 56               | Professional     | Cluster          |\n| Wanita           | 46               | Ibu Rumah Tangga | Sector           |\n| Wanita           | 19               | Mahasiswa        | Cluster          |\n| Wanita           | 47               | Wiraswasta       | Sector           |\n| Wanita           | 19               | Mahasiswa        | Cluster          |\n| Wanita           | 21               | Wiraswasta       | Sector           |\n| Wanita           | 39               | Professional     | Sector           |\n| Wanita           | 30               | Wiraswasta       | Cluster          |\n| Wanita           | 25               | Professional     | Sector           |\n| Wanita           | 46               | Wiraswasta       | Sector           |\n| Wanita           | 20               | Professional     | Cluster          |\n| Wanita           | 14               | Pelajar          | Sector           |\n| Wanita           | 24               | Ibu Rumah Tangga | Cluster          |\n| Wanita           | 26               | Wiraswasta       | Cluster          |\n| Wanita           | 31               | Professional     | Cluster          |\n| Wanita           | 18               | Wiraswasta       | Cluster          |\n| Wanita           | 22               | Professional     | Cluster          |\n| Wanita           | 25               | Wiraswasta       | Sector           |\n| Wanita           | 55               | Ibu Rumah Tangga | Cluster          |\n| Wanita           | 45               | Wiraswasta       | Sector           |\n| Wanita           | 33               | Ibu Rumah Tangga | Sector           |\n| Wanita           | 55               | Wiraswasta       | Sector           |\n\n",
            "text/plain": [
              "   Jenis.Kelamin Umur Profesi          Tipe.Residen\n",
              "1  Pria          58   Wiraswasta       Sector      \n",
              "2  Wanita        14   Pelajar          Cluster     \n",
              "3  Pria          48   Professional     Cluster     \n",
              "4  Pria          53   Professional     Cluster     \n",
              "5  Wanita        41   Wiraswasta       Cluster     \n",
              "6  Wanita        24   Professional     Cluster     \n",
              "7  Pria          64   Wiraswasta       Sector      \n",
              "8  Pria          52   Professional     Cluster     \n",
              "9  Wanita        29   Professional     Sector      \n",
              "10 Pria          33   Professional     Cluster     \n",
              "11 Wanita        50   Professional     Sector      \n",
              "12 Wanita        49   Professional     Sector      \n",
              "13 Wanita        64   Wiraswasta       Cluster     \n",
              "14 Pria          60   Wiraswasta       Cluster     \n",
              "15 Wanita        20   Wiraswasta       Cluster     \n",
              "16 Pria          35   Professional     Cluster     \n",
              "17 Wanita        32   Ibu Rumah Tangga Cluster     \n",
              "18 Wanita        63   Ibu Rumah Tangga Cluster     \n",
              "19 Wanita        32   Wiraswasta       Cluster     \n",
              "20 Wanita        16   Pelajar          Sector      \n",
              "21 Wanita        38   Wiraswasta       Cluster     \n",
              "22 Wanita        52   Professional     Cluster     \n",
              "23 Pria          34   Professional     Cluster     \n",
              "24 Wanita        39   Wiraswasta       Cluster     \n",
              "25 Wanita        29   Wiraswasta       Sector      \n",
              "26 Wanita        55   Professional     Cluster     \n",
              "27 Wanita        35   Wiraswasta       Cluster     \n",
              "28 Wanita        40   Ibu Rumah Tangga Cluster     \n",
              "29 Wanita        56   Professional     Cluster     \n",
              "30 Wanita        46   Ibu Rumah Tangga Sector      \n",
              "31 Wanita        19   Mahasiswa        Cluster     \n",
              "32 Wanita        47   Wiraswasta       Sector      \n",
              "33 Wanita        19   Mahasiswa        Cluster     \n",
              "34 Wanita        21   Wiraswasta       Sector      \n",
              "35 Wanita        39   Professional     Sector      \n",
              "36 Wanita        30   Wiraswasta       Cluster     \n",
              "37 Wanita        25   Professional     Sector      \n",
              "38 Wanita        46   Wiraswasta       Sector      \n",
              "39 Wanita        20   Professional     Cluster     \n",
              "40 Wanita        14   Pelajar          Sector      \n",
              "41 Wanita        24   Ibu Rumah Tangga Cluster     \n",
              "42 Wanita        26   Wiraswasta       Cluster     \n",
              "43 Wanita        31   Professional     Cluster     \n",
              "44 Wanita        18   Wiraswasta       Cluster     \n",
              "45 Wanita        22   Professional     Cluster     \n",
              "46 Wanita        25   Wiraswasta       Sector      \n",
              "47 Wanita        55   Ibu Rumah Tangga Cluster     \n",
              "48 Wanita        45   Wiraswasta       Sector      \n",
              "49 Wanita        33   Ibu Rumah Tangga Sector      \n",
              "50 Wanita        55   Wiraswasta       Sector      "
            ]
          },
          "metadata": {
            "tags": []
          }
        }
      ]
    },
    {
      "cell_type": "markdown",
      "metadata": {
        "id": "binary-participation"
      },
      "source": [
        "## Vector untuk Menyimpan Nama Field"
      ],
      "id": "binary-participation"
    },
    {
      "cell_type": "code",
      "metadata": {
        "id": "opposite-patrol",
        "outputId": "f1fb752c-a63c-4ee8-b249-51d4cff0aade"
      },
      "source": [
        "#Membaca data csv dan dimasukkan ke variable pelanggan\n",
        "pelanggan <- read.csv(\"https://storage.googleapis.com/dqlab-dataset/customer_segments.txt\",sep=\"\\t\")\n",
        "#Buat variable field_yang_digunakan dengan isi berupa vector \"Jenis.Kelamin\", \"Umur\" dan \"Profesi\"\n",
        "field_yang_digunakan <- c(\"Jenis.Kelamin\", \"Umur\", \"Profesi\")\n",
        "#Tampilan data pelanggan dengan nama kolom sesuai isi vector field_yang_digunakan\n",
        "pelanggan[field_yang_digunakan]\n"
      ],
      "id": "opposite-patrol",
      "execution_count": null,
      "outputs": [
        {
          "output_type": "display_data",
          "data": {
            "text/html": [
              "<table>\n",
              "<thead><tr><th scope=col>Jenis.Kelamin</th><th scope=col>Umur</th><th scope=col>Profesi</th></tr></thead>\n",
              "<tbody>\n",
              "\t<tr><td>Pria            </td><td>58              </td><td>Wiraswasta      </td></tr>\n",
              "\t<tr><td>Wanita          </td><td>14              </td><td>Pelajar         </td></tr>\n",
              "\t<tr><td>Pria            </td><td>48              </td><td>Professional    </td></tr>\n",
              "\t<tr><td>Pria            </td><td>53              </td><td>Professional    </td></tr>\n",
              "\t<tr><td>Wanita          </td><td>41              </td><td>Wiraswasta      </td></tr>\n",
              "\t<tr><td>Wanita          </td><td>24              </td><td>Professional    </td></tr>\n",
              "\t<tr><td>Pria            </td><td>64              </td><td>Wiraswasta      </td></tr>\n",
              "\t<tr><td>Pria            </td><td>52              </td><td>Professional    </td></tr>\n",
              "\t<tr><td>Wanita          </td><td>29              </td><td>Professional    </td></tr>\n",
              "\t<tr><td>Pria            </td><td>33              </td><td>Professional    </td></tr>\n",
              "\t<tr><td>Wanita          </td><td>50              </td><td>Professional    </td></tr>\n",
              "\t<tr><td>Wanita          </td><td>49              </td><td>Professional    </td></tr>\n",
              "\t<tr><td>Wanita          </td><td>64              </td><td>Wiraswasta      </td></tr>\n",
              "\t<tr><td>Pria            </td><td>60              </td><td>Wiraswasta      </td></tr>\n",
              "\t<tr><td>Wanita          </td><td>20              </td><td>Wiraswasta      </td></tr>\n",
              "\t<tr><td>Pria            </td><td>35              </td><td>Professional    </td></tr>\n",
              "\t<tr><td>Wanita          </td><td>32              </td><td>Ibu Rumah Tangga</td></tr>\n",
              "\t<tr><td>Wanita          </td><td>63              </td><td>Ibu Rumah Tangga</td></tr>\n",
              "\t<tr><td>Wanita          </td><td>32              </td><td>Wiraswasta      </td></tr>\n",
              "\t<tr><td>Wanita          </td><td>16              </td><td>Pelajar         </td></tr>\n",
              "\t<tr><td>Wanita          </td><td>38              </td><td>Wiraswasta      </td></tr>\n",
              "\t<tr><td>Wanita          </td><td>52              </td><td>Professional    </td></tr>\n",
              "\t<tr><td>Pria            </td><td>34              </td><td>Professional    </td></tr>\n",
              "\t<tr><td>Wanita          </td><td>39              </td><td>Wiraswasta      </td></tr>\n",
              "\t<tr><td>Wanita          </td><td>29              </td><td>Wiraswasta      </td></tr>\n",
              "\t<tr><td>Wanita          </td><td>55              </td><td>Professional    </td></tr>\n",
              "\t<tr><td>Wanita          </td><td>35              </td><td>Wiraswasta      </td></tr>\n",
              "\t<tr><td>Wanita          </td><td>40              </td><td>Ibu Rumah Tangga</td></tr>\n",
              "\t<tr><td>Wanita          </td><td>56              </td><td>Professional    </td></tr>\n",
              "\t<tr><td>Wanita          </td><td>46              </td><td>Ibu Rumah Tangga</td></tr>\n",
              "\t<tr><td>Wanita          </td><td>19              </td><td>Mahasiswa       </td></tr>\n",
              "\t<tr><td>Wanita          </td><td>47              </td><td>Wiraswasta      </td></tr>\n",
              "\t<tr><td>Wanita          </td><td>19              </td><td>Mahasiswa       </td></tr>\n",
              "\t<tr><td>Wanita          </td><td>21              </td><td>Wiraswasta      </td></tr>\n",
              "\t<tr><td>Wanita          </td><td>39              </td><td>Professional    </td></tr>\n",
              "\t<tr><td>Wanita          </td><td>30              </td><td>Wiraswasta      </td></tr>\n",
              "\t<tr><td>Wanita          </td><td>25              </td><td>Professional    </td></tr>\n",
              "\t<tr><td>Wanita          </td><td>46              </td><td>Wiraswasta      </td></tr>\n",
              "\t<tr><td>Wanita          </td><td>20              </td><td>Professional    </td></tr>\n",
              "\t<tr><td>Wanita          </td><td>14              </td><td>Pelajar         </td></tr>\n",
              "\t<tr><td>Wanita          </td><td>24              </td><td>Ibu Rumah Tangga</td></tr>\n",
              "\t<tr><td>Wanita          </td><td>26              </td><td>Wiraswasta      </td></tr>\n",
              "\t<tr><td>Wanita          </td><td>31              </td><td>Professional    </td></tr>\n",
              "\t<tr><td>Wanita          </td><td>18              </td><td>Wiraswasta      </td></tr>\n",
              "\t<tr><td>Wanita          </td><td>22              </td><td>Professional    </td></tr>\n",
              "\t<tr><td>Wanita          </td><td>25              </td><td>Wiraswasta      </td></tr>\n",
              "\t<tr><td>Wanita          </td><td>55              </td><td>Ibu Rumah Tangga</td></tr>\n",
              "\t<tr><td>Wanita          </td><td>45              </td><td>Wiraswasta      </td></tr>\n",
              "\t<tr><td>Wanita          </td><td>33              </td><td>Ibu Rumah Tangga</td></tr>\n",
              "\t<tr><td>Wanita          </td><td>55              </td><td>Wiraswasta      </td></tr>\n",
              "</tbody>\n",
              "</table>\n"
            ],
            "text/latex": "\\begin{tabular}{r|lll}\n Jenis.Kelamin & Umur & Profesi\\\\\n\\hline\n\t Pria             & 58               & Wiraswasta      \\\\\n\t Wanita           & 14               & Pelajar         \\\\\n\t Pria             & 48               & Professional    \\\\\n\t Pria             & 53               & Professional    \\\\\n\t Wanita           & 41               & Wiraswasta      \\\\\n\t Wanita           & 24               & Professional    \\\\\n\t Pria             & 64               & Wiraswasta      \\\\\n\t Pria             & 52               & Professional    \\\\\n\t Wanita           & 29               & Professional    \\\\\n\t Pria             & 33               & Professional    \\\\\n\t Wanita           & 50               & Professional    \\\\\n\t Wanita           & 49               & Professional    \\\\\n\t Wanita           & 64               & Wiraswasta      \\\\\n\t Pria             & 60               & Wiraswasta      \\\\\n\t Wanita           & 20               & Wiraswasta      \\\\\n\t Pria             & 35               & Professional    \\\\\n\t Wanita           & 32               & Ibu Rumah Tangga\\\\\n\t Wanita           & 63               & Ibu Rumah Tangga\\\\\n\t Wanita           & 32               & Wiraswasta      \\\\\n\t Wanita           & 16               & Pelajar         \\\\\n\t Wanita           & 38               & Wiraswasta      \\\\\n\t Wanita           & 52               & Professional    \\\\\n\t Pria             & 34               & Professional    \\\\\n\t Wanita           & 39               & Wiraswasta      \\\\\n\t Wanita           & 29               & Wiraswasta      \\\\\n\t Wanita           & 55               & Professional    \\\\\n\t Wanita           & 35               & Wiraswasta      \\\\\n\t Wanita           & 40               & Ibu Rumah Tangga\\\\\n\t Wanita           & 56               & Professional    \\\\\n\t Wanita           & 46               & Ibu Rumah Tangga\\\\\n\t Wanita           & 19               & Mahasiswa       \\\\\n\t Wanita           & 47               & Wiraswasta      \\\\\n\t Wanita           & 19               & Mahasiswa       \\\\\n\t Wanita           & 21               & Wiraswasta      \\\\\n\t Wanita           & 39               & Professional    \\\\\n\t Wanita           & 30               & Wiraswasta      \\\\\n\t Wanita           & 25               & Professional    \\\\\n\t Wanita           & 46               & Wiraswasta      \\\\\n\t Wanita           & 20               & Professional    \\\\\n\t Wanita           & 14               & Pelajar         \\\\\n\t Wanita           & 24               & Ibu Rumah Tangga\\\\\n\t Wanita           & 26               & Wiraswasta      \\\\\n\t Wanita           & 31               & Professional    \\\\\n\t Wanita           & 18               & Wiraswasta      \\\\\n\t Wanita           & 22               & Professional    \\\\\n\t Wanita           & 25               & Wiraswasta      \\\\\n\t Wanita           & 55               & Ibu Rumah Tangga\\\\\n\t Wanita           & 45               & Wiraswasta      \\\\\n\t Wanita           & 33               & Ibu Rumah Tangga\\\\\n\t Wanita           & 55               & Wiraswasta      \\\\\n\\end{tabular}\n",
            "text/markdown": "\n| Jenis.Kelamin | Umur | Profesi |\n|---|---|---|\n| Pria             | 58               | Wiraswasta       |\n| Wanita           | 14               | Pelajar          |\n| Pria             | 48               | Professional     |\n| Pria             | 53               | Professional     |\n| Wanita           | 41               | Wiraswasta       |\n| Wanita           | 24               | Professional     |\n| Pria             | 64               | Wiraswasta       |\n| Pria             | 52               | Professional     |\n| Wanita           | 29               | Professional     |\n| Pria             | 33               | Professional     |\n| Wanita           | 50               | Professional     |\n| Wanita           | 49               | Professional     |\n| Wanita           | 64               | Wiraswasta       |\n| Pria             | 60               | Wiraswasta       |\n| Wanita           | 20               | Wiraswasta       |\n| Pria             | 35               | Professional     |\n| Wanita           | 32               | Ibu Rumah Tangga |\n| Wanita           | 63               | Ibu Rumah Tangga |\n| Wanita           | 32               | Wiraswasta       |\n| Wanita           | 16               | Pelajar          |\n| Wanita           | 38               | Wiraswasta       |\n| Wanita           | 52               | Professional     |\n| Pria             | 34               | Professional     |\n| Wanita           | 39               | Wiraswasta       |\n| Wanita           | 29               | Wiraswasta       |\n| Wanita           | 55               | Professional     |\n| Wanita           | 35               | Wiraswasta       |\n| Wanita           | 40               | Ibu Rumah Tangga |\n| Wanita           | 56               | Professional     |\n| Wanita           | 46               | Ibu Rumah Tangga |\n| Wanita           | 19               | Mahasiswa        |\n| Wanita           | 47               | Wiraswasta       |\n| Wanita           | 19               | Mahasiswa        |\n| Wanita           | 21               | Wiraswasta       |\n| Wanita           | 39               | Professional     |\n| Wanita           | 30               | Wiraswasta       |\n| Wanita           | 25               | Professional     |\n| Wanita           | 46               | Wiraswasta       |\n| Wanita           | 20               | Professional     |\n| Wanita           | 14               | Pelajar          |\n| Wanita           | 24               | Ibu Rumah Tangga |\n| Wanita           | 26               | Wiraswasta       |\n| Wanita           | 31               | Professional     |\n| Wanita           | 18               | Wiraswasta       |\n| Wanita           | 22               | Professional     |\n| Wanita           | 25               | Wiraswasta       |\n| Wanita           | 55               | Ibu Rumah Tangga |\n| Wanita           | 45               | Wiraswasta       |\n| Wanita           | 33               | Ibu Rumah Tangga |\n| Wanita           | 55               | Wiraswasta       |\n\n",
            "text/plain": [
              "   Jenis.Kelamin Umur Profesi         \n",
              "1  Pria          58   Wiraswasta      \n",
              "2  Wanita        14   Pelajar         \n",
              "3  Pria          48   Professional    \n",
              "4  Pria          53   Professional    \n",
              "5  Wanita        41   Wiraswasta      \n",
              "6  Wanita        24   Professional    \n",
              "7  Pria          64   Wiraswasta      \n",
              "8  Pria          52   Professional    \n",
              "9  Wanita        29   Professional    \n",
              "10 Pria          33   Professional    \n",
              "11 Wanita        50   Professional    \n",
              "12 Wanita        49   Professional    \n",
              "13 Wanita        64   Wiraswasta      \n",
              "14 Pria          60   Wiraswasta      \n",
              "15 Wanita        20   Wiraswasta      \n",
              "16 Pria          35   Professional    \n",
              "17 Wanita        32   Ibu Rumah Tangga\n",
              "18 Wanita        63   Ibu Rumah Tangga\n",
              "19 Wanita        32   Wiraswasta      \n",
              "20 Wanita        16   Pelajar         \n",
              "21 Wanita        38   Wiraswasta      \n",
              "22 Wanita        52   Professional    \n",
              "23 Pria          34   Professional    \n",
              "24 Wanita        39   Wiraswasta      \n",
              "25 Wanita        29   Wiraswasta      \n",
              "26 Wanita        55   Professional    \n",
              "27 Wanita        35   Wiraswasta      \n",
              "28 Wanita        40   Ibu Rumah Tangga\n",
              "29 Wanita        56   Professional    \n",
              "30 Wanita        46   Ibu Rumah Tangga\n",
              "31 Wanita        19   Mahasiswa       \n",
              "32 Wanita        47   Wiraswasta      \n",
              "33 Wanita        19   Mahasiswa       \n",
              "34 Wanita        21   Wiraswasta      \n",
              "35 Wanita        39   Professional    \n",
              "36 Wanita        30   Wiraswasta      \n",
              "37 Wanita        25   Professional    \n",
              "38 Wanita        46   Wiraswasta      \n",
              "39 Wanita        20   Professional    \n",
              "40 Wanita        14   Pelajar         \n",
              "41 Wanita        24   Ibu Rumah Tangga\n",
              "42 Wanita        26   Wiraswasta      \n",
              "43 Wanita        31   Professional    \n",
              "44 Wanita        18   Wiraswasta      \n",
              "45 Wanita        22   Professional    \n",
              "46 Wanita        25   Wiraswasta      \n",
              "47 Wanita        55   Ibu Rumah Tangga\n",
              "48 Wanita        45   Wiraswasta      \n",
              "49 Wanita        33   Ibu Rumah Tangga\n",
              "50 Wanita        55   Wiraswasta      "
            ]
          },
          "metadata": {
            "tags": []
          }
        }
      ]
    },
    {
      "cell_type": "markdown",
      "metadata": {
        "id": "blank-advantage"
      },
      "source": [
        "## Konversi Data dengan data.matrix"
      ],
      "id": "blank-advantage"
    },
    {
      "cell_type": "code",
      "metadata": {
        "id": "special-words",
        "outputId": "108e6df0-e2c1-48c4-ab26-6babcf5cc284"
      },
      "source": [
        "pelanggan <- read.csv(\"https://storage.googleapis.com/dqlab-dataset/customer_segments.txt\",sep=\"\\t\")\n",
        "#Konversi data menjadi numerik\n",
        "pelanggan_matrix <- data.matrix(pelanggan[c(\"Jenis.Kelamin\", \"Profesi\", \"Tipe.Residen\")])\n",
        "pelanggan_matrix"
      ],
      "id": "special-words",
      "execution_count": null,
      "outputs": [
        {
          "output_type": "display_data",
          "data": {
            "text/html": [
              "<table>\n",
              "<thead><tr><th scope=col>Jenis.Kelamin</th><th scope=col>Profesi</th><th scope=col>Tipe.Residen</th></tr></thead>\n",
              "<tbody>\n",
              "\t<tr><td>1</td><td>5</td><td>2</td></tr>\n",
              "\t<tr><td>2</td><td>3</td><td>1</td></tr>\n",
              "\t<tr><td>1</td><td>4</td><td>1</td></tr>\n",
              "\t<tr><td>1</td><td>4</td><td>1</td></tr>\n",
              "\t<tr><td>2</td><td>5</td><td>1</td></tr>\n",
              "\t<tr><td>2</td><td>4</td><td>1</td></tr>\n",
              "\t<tr><td>1</td><td>5</td><td>2</td></tr>\n",
              "\t<tr><td>1</td><td>4</td><td>1</td></tr>\n",
              "\t<tr><td>2</td><td>4</td><td>2</td></tr>\n",
              "\t<tr><td>1</td><td>4</td><td>1</td></tr>\n",
              "\t<tr><td>2</td><td>4</td><td>2</td></tr>\n",
              "\t<tr><td>2</td><td>4</td><td>2</td></tr>\n",
              "\t<tr><td>2</td><td>5</td><td>1</td></tr>\n",
              "\t<tr><td>1</td><td>5</td><td>1</td></tr>\n",
              "\t<tr><td>2</td><td>5</td><td>1</td></tr>\n",
              "\t<tr><td>1</td><td>4</td><td>1</td></tr>\n",
              "\t<tr><td>2</td><td>1</td><td>1</td></tr>\n",
              "\t<tr><td>2</td><td>1</td><td>1</td></tr>\n",
              "\t<tr><td>2</td><td>5</td><td>1</td></tr>\n",
              "\t<tr><td>2</td><td>3</td><td>2</td></tr>\n",
              "\t<tr><td>2</td><td>5</td><td>1</td></tr>\n",
              "\t<tr><td>2</td><td>4</td><td>1</td></tr>\n",
              "\t<tr><td>1</td><td>4</td><td>1</td></tr>\n",
              "\t<tr><td>2</td><td>5</td><td>1</td></tr>\n",
              "\t<tr><td>2</td><td>5</td><td>2</td></tr>\n",
              "\t<tr><td>2</td><td>4</td><td>1</td></tr>\n",
              "\t<tr><td>2</td><td>5</td><td>1</td></tr>\n",
              "\t<tr><td>2</td><td>1</td><td>1</td></tr>\n",
              "\t<tr><td>2</td><td>4</td><td>1</td></tr>\n",
              "\t<tr><td>2</td><td>1</td><td>2</td></tr>\n",
              "\t<tr><td>2</td><td>2</td><td>1</td></tr>\n",
              "\t<tr><td>2</td><td>5</td><td>2</td></tr>\n",
              "\t<tr><td>2</td><td>2</td><td>1</td></tr>\n",
              "\t<tr><td>2</td><td>5</td><td>2</td></tr>\n",
              "\t<tr><td>2</td><td>4</td><td>2</td></tr>\n",
              "\t<tr><td>2</td><td>5</td><td>1</td></tr>\n",
              "\t<tr><td>2</td><td>4</td><td>2</td></tr>\n",
              "\t<tr><td>2</td><td>5</td><td>2</td></tr>\n",
              "\t<tr><td>2</td><td>4</td><td>1</td></tr>\n",
              "\t<tr><td>2</td><td>3</td><td>2</td></tr>\n",
              "\t<tr><td>2</td><td>1</td><td>1</td></tr>\n",
              "\t<tr><td>2</td><td>5</td><td>1</td></tr>\n",
              "\t<tr><td>2</td><td>4</td><td>1</td></tr>\n",
              "\t<tr><td>2</td><td>5</td><td>1</td></tr>\n",
              "\t<tr><td>2</td><td>4</td><td>1</td></tr>\n",
              "\t<tr><td>2</td><td>5</td><td>2</td></tr>\n",
              "\t<tr><td>2</td><td>1</td><td>1</td></tr>\n",
              "\t<tr><td>2</td><td>5</td><td>2</td></tr>\n",
              "\t<tr><td>2</td><td>1</td><td>2</td></tr>\n",
              "\t<tr><td>2</td><td>5</td><td>2</td></tr>\n",
              "</tbody>\n",
              "</table>\n"
            ],
            "text/latex": "\\begin{tabular}{lll}\n Jenis.Kelamin & Profesi & Tipe.Residen\\\\\n\\hline\n\t 1 & 5 & 2\\\\\n\t 2 & 3 & 1\\\\\n\t 1 & 4 & 1\\\\\n\t 1 & 4 & 1\\\\\n\t 2 & 5 & 1\\\\\n\t 2 & 4 & 1\\\\\n\t 1 & 5 & 2\\\\\n\t 1 & 4 & 1\\\\\n\t 2 & 4 & 2\\\\\n\t 1 & 4 & 1\\\\\n\t 2 & 4 & 2\\\\\n\t 2 & 4 & 2\\\\\n\t 2 & 5 & 1\\\\\n\t 1 & 5 & 1\\\\\n\t 2 & 5 & 1\\\\\n\t 1 & 4 & 1\\\\\n\t 2 & 1 & 1\\\\\n\t 2 & 1 & 1\\\\\n\t 2 & 5 & 1\\\\\n\t 2 & 3 & 2\\\\\n\t 2 & 5 & 1\\\\\n\t 2 & 4 & 1\\\\\n\t 1 & 4 & 1\\\\\n\t 2 & 5 & 1\\\\\n\t 2 & 5 & 2\\\\\n\t 2 & 4 & 1\\\\\n\t 2 & 5 & 1\\\\\n\t 2 & 1 & 1\\\\\n\t 2 & 4 & 1\\\\\n\t 2 & 1 & 2\\\\\n\t 2 & 2 & 1\\\\\n\t 2 & 5 & 2\\\\\n\t 2 & 2 & 1\\\\\n\t 2 & 5 & 2\\\\\n\t 2 & 4 & 2\\\\\n\t 2 & 5 & 1\\\\\n\t 2 & 4 & 2\\\\\n\t 2 & 5 & 2\\\\\n\t 2 & 4 & 1\\\\\n\t 2 & 3 & 2\\\\\n\t 2 & 1 & 1\\\\\n\t 2 & 5 & 1\\\\\n\t 2 & 4 & 1\\\\\n\t 2 & 5 & 1\\\\\n\t 2 & 4 & 1\\\\\n\t 2 & 5 & 2\\\\\n\t 2 & 1 & 1\\\\\n\t 2 & 5 & 2\\\\\n\t 2 & 1 & 2\\\\\n\t 2 & 5 & 2\\\\\n\\end{tabular}\n",
            "text/markdown": "\n| Jenis.Kelamin | Profesi | Tipe.Residen |\n|---|---|---|\n| 1 | 5 | 2 |\n| 2 | 3 | 1 |\n| 1 | 4 | 1 |\n| 1 | 4 | 1 |\n| 2 | 5 | 1 |\n| 2 | 4 | 1 |\n| 1 | 5 | 2 |\n| 1 | 4 | 1 |\n| 2 | 4 | 2 |\n| 1 | 4 | 1 |\n| 2 | 4 | 2 |\n| 2 | 4 | 2 |\n| 2 | 5 | 1 |\n| 1 | 5 | 1 |\n| 2 | 5 | 1 |\n| 1 | 4 | 1 |\n| 2 | 1 | 1 |\n| 2 | 1 | 1 |\n| 2 | 5 | 1 |\n| 2 | 3 | 2 |\n| 2 | 5 | 1 |\n| 2 | 4 | 1 |\n| 1 | 4 | 1 |\n| 2 | 5 | 1 |\n| 2 | 5 | 2 |\n| 2 | 4 | 1 |\n| 2 | 5 | 1 |\n| 2 | 1 | 1 |\n| 2 | 4 | 1 |\n| 2 | 1 | 2 |\n| 2 | 2 | 1 |\n| 2 | 5 | 2 |\n| 2 | 2 | 1 |\n| 2 | 5 | 2 |\n| 2 | 4 | 2 |\n| 2 | 5 | 1 |\n| 2 | 4 | 2 |\n| 2 | 5 | 2 |\n| 2 | 4 | 1 |\n| 2 | 3 | 2 |\n| 2 | 1 | 1 |\n| 2 | 5 | 1 |\n| 2 | 4 | 1 |\n| 2 | 5 | 1 |\n| 2 | 4 | 1 |\n| 2 | 5 | 2 |\n| 2 | 1 | 1 |\n| 2 | 5 | 2 |\n| 2 | 1 | 2 |\n| 2 | 5 | 2 |\n\n",
            "text/plain": [
              "      Jenis.Kelamin Profesi Tipe.Residen\n",
              " [1,] 1             5       2           \n",
              " [2,] 2             3       1           \n",
              " [3,] 1             4       1           \n",
              " [4,] 1             4       1           \n",
              " [5,] 2             5       1           \n",
              " [6,] 2             4       1           \n",
              " [7,] 1             5       2           \n",
              " [8,] 1             4       1           \n",
              " [9,] 2             4       2           \n",
              "[10,] 1             4       1           \n",
              "[11,] 2             4       2           \n",
              "[12,] 2             4       2           \n",
              "[13,] 2             5       1           \n",
              "[14,] 1             5       1           \n",
              "[15,] 2             5       1           \n",
              "[16,] 1             4       1           \n",
              "[17,] 2             1       1           \n",
              "[18,] 2             1       1           \n",
              "[19,] 2             5       1           \n",
              "[20,] 2             3       2           \n",
              "[21,] 2             5       1           \n",
              "[22,] 2             4       1           \n",
              "[23,] 1             4       1           \n",
              "[24,] 2             5       1           \n",
              "[25,] 2             5       2           \n",
              "[26,] 2             4       1           \n",
              "[27,] 2             5       1           \n",
              "[28,] 2             1       1           \n",
              "[29,] 2             4       1           \n",
              "[30,] 2             1       2           \n",
              "[31,] 2             2       1           \n",
              "[32,] 2             5       2           \n",
              "[33,] 2             2       1           \n",
              "[34,] 2             5       2           \n",
              "[35,] 2             4       2           \n",
              "[36,] 2             5       1           \n",
              "[37,] 2             4       2           \n",
              "[38,] 2             5       2           \n",
              "[39,] 2             4       1           \n",
              "[40,] 2             3       2           \n",
              "[41,] 2             1       1           \n",
              "[42,] 2             5       1           \n",
              "[43,] 2             4       1           \n",
              "[44,] 2             5       1           \n",
              "[45,] 2             4       1           \n",
              "[46,] 2             5       2           \n",
              "[47,] 2             1       1           \n",
              "[48,] 2             5       2           \n",
              "[49,] 2             1       2           \n",
              "[50,] 2             5       2           "
            ]
          },
          "metadata": {
            "tags": []
          }
        }
      ]
    },
    {
      "cell_type": "markdown",
      "metadata": {
        "id": "quick-hydrogen"
      },
      "source": [
        "## Menggabungkan Hasil Konversi"
      ],
      "id": "quick-hydrogen"
    },
    {
      "cell_type": "code",
      "metadata": {
        "id": "operational-relations",
        "outputId": "2d878bcc-2f59-41e9-ac0b-2212a6761d3a"
      },
      "source": [
        "pelanggan <- read.csv(\"https://storage.googleapis.com/dqlab-dataset/customer_segments.txt\",sep=\"\\t\")\n",
        "pelanggan_matrix <- data.matrix(pelanggan[c(\"Jenis.Kelamin\", \"Profesi\", \"Tipe.Residen\")])\n",
        "#Penggabungan data\n",
        "pelanggan <- data.frame(pelanggan, pelanggan_matrix)\n",
        "#Tampilkan kembali data hasil penggabungan\n",
        "pelanggan\n"
      ],
      "id": "operational-relations",
      "execution_count": null,
      "outputs": [
        {
          "output_type": "display_data",
          "data": {
            "text/html": [
              "<table>\n",
              "<thead><tr><th scope=col>Customer_ID</th><th scope=col>Nama.Pelanggan</th><th scope=col>Jenis.Kelamin</th><th scope=col>Umur</th><th scope=col>Profesi</th><th scope=col>Tipe.Residen</th><th scope=col>NilaiBelanjaSetahun</th><th scope=col>Jenis.Kelamin.1</th><th scope=col>Profesi.1</th><th scope=col>Tipe.Residen.1</th></tr></thead>\n",
              "<tbody>\n",
              "\t<tr><td>CUST-001             </td><td>Budi Anggara         </td><td>Pria                 </td><td>58                   </td><td>Wiraswasta           </td><td>Sector               </td><td> 9497927             </td><td>1                    </td><td>5                    </td><td>2                    </td></tr>\n",
              "\t<tr><td>CUST-002             </td><td>Shirley Ratuwati     </td><td>Wanita               </td><td>14                   </td><td>Pelajar              </td><td>Cluster              </td><td> 2722700             </td><td>2                    </td><td>3                    </td><td>1                    </td></tr>\n",
              "\t<tr><td>CUST-003             </td><td>Agus Cahyono         </td><td>Pria                 </td><td>48                   </td><td>Professional         </td><td>Cluster              </td><td> 5286429             </td><td>1                    </td><td>4                    </td><td>1                    </td></tr>\n",
              "\t<tr><td>CUST-004             </td><td>Antonius Winarta     </td><td>Pria                 </td><td>53                   </td><td>Professional         </td><td>Cluster              </td><td> 5204498             </td><td>1                    </td><td>4                    </td><td>1                    </td></tr>\n",
              "\t<tr><td>CUST-005             </td><td>Ibu Sri Wahyuni, IR  </td><td>Wanita               </td><td>41                   </td><td>Wiraswasta           </td><td>Cluster              </td><td>10615206             </td><td>2                    </td><td>5                    </td><td>1                    </td></tr>\n",
              "\t<tr><td>CUST-006             </td><td>Rosalina Kurnia      </td><td>Wanita               </td><td>24                   </td><td>Professional         </td><td>Cluster              </td><td> 5215541             </td><td>2                    </td><td>4                    </td><td>1                    </td></tr>\n",
              "\t<tr><td>CUST-007             </td><td>Cahyono, Agus        </td><td>Pria                 </td><td>64                   </td><td>Wiraswasta           </td><td>Sector               </td><td> 9837260             </td><td>1                    </td><td>5                    </td><td>2                    </td></tr>\n",
              "\t<tr><td>CUST-008             </td><td>Danang Santosa       </td><td>Pria                 </td><td>52                   </td><td>Professional         </td><td>Cluster              </td><td> 5223569             </td><td>1                    </td><td>4                    </td><td>1                    </td></tr>\n",
              "\t<tr><td>CUST-009             </td><td>Elisabeth Suryadinata</td><td>Wanita               </td><td>29                   </td><td>Professional         </td><td>Sector               </td><td> 5993218             </td><td>2                    </td><td>4                    </td><td>2                    </td></tr>\n",
              "\t<tr><td>CUST-010             </td><td>Mario Setiawan       </td><td>Pria                 </td><td>33                   </td><td>Professional         </td><td>Cluster              </td><td> 5257448             </td><td>1                    </td><td>4                    </td><td>1                    </td></tr>\n",
              "\t<tr><td>CUST-011             </td><td>Maria Suryawan       </td><td>Wanita               </td><td>50                   </td><td>Professional         </td><td>Sector               </td><td> 5987367             </td><td>2                    </td><td>4                    </td><td>2                    </td></tr>\n",
              "\t<tr><td>CUST-012             </td><td>Erliana Widjaja      </td><td>Wanita               </td><td>49                   </td><td>Professional         </td><td>Sector               </td><td> 5941914             </td><td>2                    </td><td>4                    </td><td>2                    </td></tr>\n",
              "\t<tr><td>CUST-013             </td><td>Cahaya Putri         </td><td>Wanita               </td><td>64                   </td><td>Wiraswasta           </td><td>Cluster              </td><td> 9333168             </td><td>2                    </td><td>5                    </td><td>1                    </td></tr>\n",
              "\t<tr><td>CUST-014             </td><td>Mario Setiawan       </td><td>Pria                 </td><td>60                   </td><td>Wiraswasta           </td><td>Cluster              </td><td> 9471615             </td><td>1                    </td><td>5                    </td><td>1                    </td></tr>\n",
              "\t<tr><td>CUST-015             </td><td>Shirley Ratuwati     </td><td>Wanita               </td><td>20                   </td><td>Wiraswasta           </td><td>Cluster              </td><td>10365668             </td><td>2                    </td><td>5                    </td><td>1                    </td></tr>\n",
              "\t<tr><td>CUST-016             </td><td>Bambang Rudi         </td><td>Pria                 </td><td>35                   </td><td>Professional         </td><td>Cluster              </td><td> 5262521             </td><td>1                    </td><td>4                    </td><td>1                    </td></tr>\n",
              "\t<tr><td>CUST-017             </td><td>Yuni Sari            </td><td>Wanita               </td><td>32                   </td><td>Ibu Rumah Tangga     </td><td>Cluster              </td><td> 5677762             </td><td>2                    </td><td>1                    </td><td>1                    </td></tr>\n",
              "\t<tr><td>CUST-018             </td><td>Nelly Halim          </td><td>Wanita               </td><td>63                   </td><td>Ibu Rumah Tangga     </td><td>Cluster              </td><td> 5340690             </td><td>2                    </td><td>1                    </td><td>1                    </td></tr>\n",
              "\t<tr><td>CUST-019             </td><td>Mega Pranoto         </td><td>Wanita               </td><td>32                   </td><td>Wiraswasta           </td><td>Cluster              </td><td>10884508             </td><td>2                    </td><td>5                    </td><td>1                    </td></tr>\n",
              "\t<tr><td>CUST-020             </td><td>Irene Novianto       </td><td>Wanita               </td><td>16                   </td><td>Pelajar              </td><td>Sector               </td><td> 2896845             </td><td>2                    </td><td>3                    </td><td>2                    </td></tr>\n",
              "\t<tr><td>CUST-021             </td><td>Lestari Fabianto     </td><td>Wanita               </td><td>38                   </td><td>Wiraswasta           </td><td>Cluster              </td><td> 9222070             </td><td>2                    </td><td>5                    </td><td>1                    </td></tr>\n",
              "\t<tr><td>CUST-022             </td><td>Novita Purba         </td><td>Wanita               </td><td>52                   </td><td>Professional         </td><td>Cluster              </td><td> 5298157             </td><td>2                    </td><td>4                    </td><td>1                    </td></tr>\n",
              "\t<tr><td>CUST-023             </td><td>Denny Amiruddin      </td><td>Pria                 </td><td>34                   </td><td>Professional         </td><td>Cluster              </td><td> 5239290             </td><td>1                    </td><td>4                    </td><td>1                    </td></tr>\n",
              "\t<tr><td>CUST-024             </td><td>Putri Ginting        </td><td>Wanita               </td><td>39                   </td><td>Wiraswasta           </td><td>Cluster              </td><td>10259572             </td><td>2                    </td><td>5                    </td><td>1                    </td></tr>\n",
              "\t<tr><td>CUST-025             </td><td>Julia Setiawan       </td><td>Wanita               </td><td>29                   </td><td>Wiraswasta           </td><td>Sector               </td><td>10721998             </td><td>2                    </td><td>5                    </td><td>2                    </td></tr>\n",
              "\t<tr><td>CUST-026             </td><td>Christine Winarto    </td><td>Wanita               </td><td>55                   </td><td>Professional         </td><td>Cluster              </td><td> 5269392             </td><td>2                    </td><td>4                    </td><td>1                    </td></tr>\n",
              "\t<tr><td>CUST-027             </td><td>Grace Mulyati        </td><td>Wanita               </td><td>35                   </td><td>Wiraswasta           </td><td>Cluster              </td><td> 9114159             </td><td>2                    </td><td>5                    </td><td>1                    </td></tr>\n",
              "\t<tr><td>CUST-028             </td><td>Adeline Huang        </td><td>Wanita               </td><td>40                   </td><td>Ibu Rumah Tangga     </td><td>Cluster              </td><td> 6631680             </td><td>2                    </td><td>1                    </td><td>1                    </td></tr>\n",
              "\t<tr><td>CUST-029             </td><td>Tia Hartanti         </td><td>Wanita               </td><td>56                   </td><td>Professional         </td><td>Cluster              </td><td> 5271845             </td><td>2                    </td><td>4                    </td><td>1                    </td></tr>\n",
              "\t<tr><td>CUST-030             </td><td>Rosita Saragih       </td><td>Wanita               </td><td>46                   </td><td>Ibu Rumah Tangga     </td><td>Sector               </td><td> 5020976             </td><td>2                    </td><td>1                    </td><td>2                    </td></tr>\n",
              "\t<tr><td>CUST-031             </td><td>Eviana Handry        </td><td>Wanita               </td><td>19                   </td><td>Mahasiswa            </td><td>Cluster              </td><td> 3042773             </td><td>2                    </td><td>2                    </td><td>1                    </td></tr>\n",
              "\t<tr><td>CUST-032             </td><td>Chintya Winarni      </td><td>Wanita               </td><td>47                   </td><td>Wiraswasta           </td><td>Sector               </td><td>10663179             </td><td>2                    </td><td>5                    </td><td>2                    </td></tr>\n",
              "\t<tr><td>CUST-033             </td><td>Cecilia Kusnadi      </td><td>Wanita               </td><td>19                   </td><td>Mahasiswa            </td><td>Cluster              </td><td> 3047926             </td><td>2                    </td><td>2                    </td><td>1                    </td></tr>\n",
              "\t<tr><td>CUST-034             </td><td>Deasy Arisandi       </td><td>Wanita               </td><td>21                   </td><td>Wiraswasta           </td><td>Sector               </td><td> 9759822             </td><td>2                    </td><td>5                    </td><td>2                    </td></tr>\n",
              "\t<tr><td>CUST-035             </td><td>Ida Ayu              </td><td>Wanita               </td><td>39                   </td><td>Professional         </td><td>Sector               </td><td> 5962575             </td><td>2                    </td><td>4                    </td><td>2                    </td></tr>\n",
              "\t<tr><td>CUST-036             </td><td>Ni Made Suasti       </td><td>Wanita               </td><td>30                   </td><td>Wiraswasta           </td><td>Cluster              </td><td> 9678994             </td><td>2                    </td><td>5                    </td><td>1                    </td></tr>\n",
              "\t<tr><td>CUST-037             </td><td>Felicia Tandiono     </td><td>Wanita               </td><td>25                   </td><td>Professional         </td><td>Sector               </td><td> 5972787             </td><td>2                    </td><td>4                    </td><td>2                    </td></tr>\n",
              "\t<tr><td>CUST-038             </td><td>Agatha Salim         </td><td>Wanita               </td><td>46                   </td><td>Wiraswasta           </td><td>Sector               </td><td>10477127             </td><td>2                    </td><td>5                    </td><td>2                    </td></tr>\n",
              "\t<tr><td>CUST-039             </td><td>Gina Hidayat         </td><td>Wanita               </td><td>20                   </td><td>Professional         </td><td>Cluster              </td><td> 5257775             </td><td>2                    </td><td>4                    </td><td>1                    </td></tr>\n",
              "\t<tr><td>CUST-040             </td><td>Irene Darmawan       </td><td>Wanita               </td><td>14                   </td><td>Pelajar              </td><td>Sector               </td><td> 2861855             </td><td>2                    </td><td>3                    </td><td>2                    </td></tr>\n",
              "\t<tr><td>CUST-041             </td><td>Shinta Aritonang     </td><td>Wanita               </td><td>24                   </td><td>Ibu Rumah Tangga     </td><td>Cluster              </td><td> 6820976             </td><td>2                    </td><td>1                    </td><td>1                    </td></tr>\n",
              "\t<tr><td>CUST-042             </td><td>Yuliana Wati         </td><td>Wanita               </td><td>26                   </td><td>Wiraswasta           </td><td>Cluster              </td><td> 9880607             </td><td>2                    </td><td>5                    </td><td>1                    </td></tr>\n",
              "\t<tr><td>CUST-043             </td><td>Yenna Sumadi         </td><td>Wanita               </td><td>31                   </td><td>Professional         </td><td>Cluster              </td><td> 5268410             </td><td>2                    </td><td>4                    </td><td>1                    </td></tr>\n",
              "\t<tr><td>CUST-044             </td><td>Anna                 </td><td>Wanita               </td><td>18                   </td><td>Wiraswasta           </td><td>Cluster              </td><td> 9339737             </td><td>2                    </td><td>5                    </td><td>1                    </td></tr>\n",
              "\t<tr><td>CUST-045             </td><td>Rismawati Juni       </td><td>Wanita               </td><td>22                   </td><td>Professional         </td><td>Cluster              </td><td> 5211041             </td><td>2                    </td><td>4                    </td><td>1                    </td></tr>\n",
              "\t<tr><td>CUST-046             </td><td>Elfira Surya         </td><td>Wanita               </td><td>25                   </td><td>Wiraswasta           </td><td>Sector               </td><td>10099807             </td><td>2                    </td><td>5                    </td><td>2                    </td></tr>\n",
              "\t<tr><td>CUST-047             </td><td>Mira Kurnia          </td><td>Wanita               </td><td>55                   </td><td>Ibu Rumah Tangga     </td><td>Cluster              </td><td> 6130724             </td><td>2                    </td><td>1                    </td><td>1                    </td></tr>\n",
              "\t<tr><td>CUST-048             </td><td>Maria Hutagalung     </td><td>Wanita               </td><td>45                   </td><td>Wiraswasta           </td><td>Sector               </td><td>10390732             </td><td>2                    </td><td>5                    </td><td>2                    </td></tr>\n",
              "\t<tr><td>CUST-049             </td><td>Josephine Wahab      </td><td>Wanita               </td><td>33                   </td><td>Ibu Rumah Tangga     </td><td>Sector               </td><td> 4992585             </td><td>2                    </td><td>1                    </td><td>2                    </td></tr>\n",
              "\t<tr><td>CUST-050             </td><td>Lianna Nugraha       </td><td>Wanita               </td><td>55                   </td><td>Wiraswasta           </td><td>Sector               </td><td>10569316             </td><td>2                    </td><td>5                    </td><td>2                    </td></tr>\n",
              "</tbody>\n",
              "</table>\n"
            ],
            "text/latex": "\\begin{tabular}{r|llllllllll}\n Customer\\_ID & Nama.Pelanggan & Jenis.Kelamin & Umur & Profesi & Tipe.Residen & NilaiBelanjaSetahun & Jenis.Kelamin.1 & Profesi.1 & Tipe.Residen.1\\\\\n\\hline\n\t CUST-001              & Budi Anggara          & Pria                  & 58                    & Wiraswasta            & Sector                &  9497927              & 1                     & 5                     & 2                    \\\\\n\t CUST-002              & Shirley Ratuwati      & Wanita                & 14                    & Pelajar               & Cluster               &  2722700              & 2                     & 3                     & 1                    \\\\\n\t CUST-003              & Agus Cahyono          & Pria                  & 48                    & Professional          & Cluster               &  5286429              & 1                     & 4                     & 1                    \\\\\n\t CUST-004              & Antonius Winarta      & Pria                  & 53                    & Professional          & Cluster               &  5204498              & 1                     & 4                     & 1                    \\\\\n\t CUST-005              & Ibu Sri Wahyuni, IR   & Wanita                & 41                    & Wiraswasta            & Cluster               & 10615206              & 2                     & 5                     & 1                    \\\\\n\t CUST-006              & Rosalina Kurnia       & Wanita                & 24                    & Professional          & Cluster               &  5215541              & 2                     & 4                     & 1                    \\\\\n\t CUST-007              & Cahyono, Agus         & Pria                  & 64                    & Wiraswasta            & Sector                &  9837260              & 1                     & 5                     & 2                    \\\\\n\t CUST-008              & Danang Santosa        & Pria                  & 52                    & Professional          & Cluster               &  5223569              & 1                     & 4                     & 1                    \\\\\n\t CUST-009              & Elisabeth Suryadinata & Wanita                & 29                    & Professional          & Sector                &  5993218              & 2                     & 4                     & 2                    \\\\\n\t CUST-010              & Mario Setiawan        & Pria                  & 33                    & Professional          & Cluster               &  5257448              & 1                     & 4                     & 1                    \\\\\n\t CUST-011              & Maria Suryawan        & Wanita                & 50                    & Professional          & Sector                &  5987367              & 2                     & 4                     & 2                    \\\\\n\t CUST-012              & Erliana Widjaja       & Wanita                & 49                    & Professional          & Sector                &  5941914              & 2                     & 4                     & 2                    \\\\\n\t CUST-013              & Cahaya Putri          & Wanita                & 64                    & Wiraswasta            & Cluster               &  9333168              & 2                     & 5                     & 1                    \\\\\n\t CUST-014              & Mario Setiawan        & Pria                  & 60                    & Wiraswasta            & Cluster               &  9471615              & 1                     & 5                     & 1                    \\\\\n\t CUST-015              & Shirley Ratuwati      & Wanita                & 20                    & Wiraswasta            & Cluster               & 10365668              & 2                     & 5                     & 1                    \\\\\n\t CUST-016              & Bambang Rudi          & Pria                  & 35                    & Professional          & Cluster               &  5262521              & 1                     & 4                     & 1                    \\\\\n\t CUST-017              & Yuni Sari             & Wanita                & 32                    & Ibu Rumah Tangga      & Cluster               &  5677762              & 2                     & 1                     & 1                    \\\\\n\t CUST-018              & Nelly Halim           & Wanita                & 63                    & Ibu Rumah Tangga      & Cluster               &  5340690              & 2                     & 1                     & 1                    \\\\\n\t CUST-019              & Mega Pranoto          & Wanita                & 32                    & Wiraswasta            & Cluster               & 10884508              & 2                     & 5                     & 1                    \\\\\n\t CUST-020              & Irene Novianto        & Wanita                & 16                    & Pelajar               & Sector                &  2896845              & 2                     & 3                     & 2                    \\\\\n\t CUST-021              & Lestari Fabianto      & Wanita                & 38                    & Wiraswasta            & Cluster               &  9222070              & 2                     & 5                     & 1                    \\\\\n\t CUST-022              & Novita Purba          & Wanita                & 52                    & Professional          & Cluster               &  5298157              & 2                     & 4                     & 1                    \\\\\n\t CUST-023              & Denny Amiruddin       & Pria                  & 34                    & Professional          & Cluster               &  5239290              & 1                     & 4                     & 1                    \\\\\n\t CUST-024              & Putri Ginting         & Wanita                & 39                    & Wiraswasta            & Cluster               & 10259572              & 2                     & 5                     & 1                    \\\\\n\t CUST-025              & Julia Setiawan        & Wanita                & 29                    & Wiraswasta            & Sector                & 10721998              & 2                     & 5                     & 2                    \\\\\n\t CUST-026              & Christine Winarto     & Wanita                & 55                    & Professional          & Cluster               &  5269392              & 2                     & 4                     & 1                    \\\\\n\t CUST-027              & Grace Mulyati         & Wanita                & 35                    & Wiraswasta            & Cluster               &  9114159              & 2                     & 5                     & 1                    \\\\\n\t CUST-028              & Adeline Huang         & Wanita                & 40                    & Ibu Rumah Tangga      & Cluster               &  6631680              & 2                     & 1                     & 1                    \\\\\n\t CUST-029              & Tia Hartanti          & Wanita                & 56                    & Professional          & Cluster               &  5271845              & 2                     & 4                     & 1                    \\\\\n\t CUST-030              & Rosita Saragih        & Wanita                & 46                    & Ibu Rumah Tangga      & Sector                &  5020976              & 2                     & 1                     & 2                    \\\\\n\t CUST-031              & Eviana Handry         & Wanita                & 19                    & Mahasiswa             & Cluster               &  3042773              & 2                     & 2                     & 1                    \\\\\n\t CUST-032              & Chintya Winarni       & Wanita                & 47                    & Wiraswasta            & Sector                & 10663179              & 2                     & 5                     & 2                    \\\\\n\t CUST-033              & Cecilia Kusnadi       & Wanita                & 19                    & Mahasiswa             & Cluster               &  3047926              & 2                     & 2                     & 1                    \\\\\n\t CUST-034              & Deasy Arisandi        & Wanita                & 21                    & Wiraswasta            & Sector                &  9759822              & 2                     & 5                     & 2                    \\\\\n\t CUST-035              & Ida Ayu               & Wanita                & 39                    & Professional          & Sector                &  5962575              & 2                     & 4                     & 2                    \\\\\n\t CUST-036              & Ni Made Suasti        & Wanita                & 30                    & Wiraswasta            & Cluster               &  9678994              & 2                     & 5                     & 1                    \\\\\n\t CUST-037              & Felicia Tandiono      & Wanita                & 25                    & Professional          & Sector                &  5972787              & 2                     & 4                     & 2                    \\\\\n\t CUST-038              & Agatha Salim          & Wanita                & 46                    & Wiraswasta            & Sector                & 10477127              & 2                     & 5                     & 2                    \\\\\n\t CUST-039              & Gina Hidayat          & Wanita                & 20                    & Professional          & Cluster               &  5257775              & 2                     & 4                     & 1                    \\\\\n\t CUST-040              & Irene Darmawan        & Wanita                & 14                    & Pelajar               & Sector                &  2861855              & 2                     & 3                     & 2                    \\\\\n\t CUST-041              & Shinta Aritonang      & Wanita                & 24                    & Ibu Rumah Tangga      & Cluster               &  6820976              & 2                     & 1                     & 1                    \\\\\n\t CUST-042              & Yuliana Wati          & Wanita                & 26                    & Wiraswasta            & Cluster               &  9880607              & 2                     & 5                     & 1                    \\\\\n\t CUST-043              & Yenna Sumadi          & Wanita                & 31                    & Professional          & Cluster               &  5268410              & 2                     & 4                     & 1                    \\\\\n\t CUST-044              & Anna                  & Wanita                & 18                    & Wiraswasta            & Cluster               &  9339737              & 2                     & 5                     & 1                    \\\\\n\t CUST-045              & Rismawati Juni        & Wanita                & 22                    & Professional          & Cluster               &  5211041              & 2                     & 4                     & 1                    \\\\\n\t CUST-046              & Elfira Surya          & Wanita                & 25                    & Wiraswasta            & Sector                & 10099807              & 2                     & 5                     & 2                    \\\\\n\t CUST-047              & Mira Kurnia           & Wanita                & 55                    & Ibu Rumah Tangga      & Cluster               &  6130724              & 2                     & 1                     & 1                    \\\\\n\t CUST-048              & Maria Hutagalung      & Wanita                & 45                    & Wiraswasta            & Sector                & 10390732              & 2                     & 5                     & 2                    \\\\\n\t CUST-049              & Josephine Wahab       & Wanita                & 33                    & Ibu Rumah Tangga      & Sector                &  4992585              & 2                     & 1                     & 2                    \\\\\n\t CUST-050              & Lianna Nugraha        & Wanita                & 55                    & Wiraswasta            & Sector                & 10569316              & 2                     & 5                     & 2                    \\\\\n\\end{tabular}\n",
            "text/markdown": "\n| Customer_ID | Nama.Pelanggan | Jenis.Kelamin | Umur | Profesi | Tipe.Residen | NilaiBelanjaSetahun | Jenis.Kelamin.1 | Profesi.1 | Tipe.Residen.1 |\n|---|---|---|---|---|---|---|---|---|---|\n| CUST-001              | Budi Anggara          | Pria                  | 58                    | Wiraswasta            | Sector                |  9497927              | 1                     | 5                     | 2                     |\n| CUST-002              | Shirley Ratuwati      | Wanita                | 14                    | Pelajar               | Cluster               |  2722700              | 2                     | 3                     | 1                     |\n| CUST-003              | Agus Cahyono          | Pria                  | 48                    | Professional          | Cluster               |  5286429              | 1                     | 4                     | 1                     |\n| CUST-004              | Antonius Winarta      | Pria                  | 53                    | Professional          | Cluster               |  5204498              | 1                     | 4                     | 1                     |\n| CUST-005              | Ibu Sri Wahyuni, IR   | Wanita                | 41                    | Wiraswasta            | Cluster               | 10615206              | 2                     | 5                     | 1                     |\n| CUST-006              | Rosalina Kurnia       | Wanita                | 24                    | Professional          | Cluster               |  5215541              | 2                     | 4                     | 1                     |\n| CUST-007              | Cahyono, Agus         | Pria                  | 64                    | Wiraswasta            | Sector                |  9837260              | 1                     | 5                     | 2                     |\n| CUST-008              | Danang Santosa        | Pria                  | 52                    | Professional          | Cluster               |  5223569              | 1                     | 4                     | 1                     |\n| CUST-009              | Elisabeth Suryadinata | Wanita                | 29                    | Professional          | Sector                |  5993218              | 2                     | 4                     | 2                     |\n| CUST-010              | Mario Setiawan        | Pria                  | 33                    | Professional          | Cluster               |  5257448              | 1                     | 4                     | 1                     |\n| CUST-011              | Maria Suryawan        | Wanita                | 50                    | Professional          | Sector                |  5987367              | 2                     | 4                     | 2                     |\n| CUST-012              | Erliana Widjaja       | Wanita                | 49                    | Professional          | Sector                |  5941914              | 2                     | 4                     | 2                     |\n| CUST-013              | Cahaya Putri          | Wanita                | 64                    | Wiraswasta            | Cluster               |  9333168              | 2                     | 5                     | 1                     |\n| CUST-014              | Mario Setiawan        | Pria                  | 60                    | Wiraswasta            | Cluster               |  9471615              | 1                     | 5                     | 1                     |\n| CUST-015              | Shirley Ratuwati      | Wanita                | 20                    | Wiraswasta            | Cluster               | 10365668              | 2                     | 5                     | 1                     |\n| CUST-016              | Bambang Rudi          | Pria                  | 35                    | Professional          | Cluster               |  5262521              | 1                     | 4                     | 1                     |\n| CUST-017              | Yuni Sari             | Wanita                | 32                    | Ibu Rumah Tangga      | Cluster               |  5677762              | 2                     | 1                     | 1                     |\n| CUST-018              | Nelly Halim           | Wanita                | 63                    | Ibu Rumah Tangga      | Cluster               |  5340690              | 2                     | 1                     | 1                     |\n| CUST-019              | Mega Pranoto          | Wanita                | 32                    | Wiraswasta            | Cluster               | 10884508              | 2                     | 5                     | 1                     |\n| CUST-020              | Irene Novianto        | Wanita                | 16                    | Pelajar               | Sector                |  2896845              | 2                     | 3                     | 2                     |\n| CUST-021              | Lestari Fabianto      | Wanita                | 38                    | Wiraswasta            | Cluster               |  9222070              | 2                     | 5                     | 1                     |\n| CUST-022              | Novita Purba          | Wanita                | 52                    | Professional          | Cluster               |  5298157              | 2                     | 4                     | 1                     |\n| CUST-023              | Denny Amiruddin       | Pria                  | 34                    | Professional          | Cluster               |  5239290              | 1                     | 4                     | 1                     |\n| CUST-024              | Putri Ginting         | Wanita                | 39                    | Wiraswasta            | Cluster               | 10259572              | 2                     | 5                     | 1                     |\n| CUST-025              | Julia Setiawan        | Wanita                | 29                    | Wiraswasta            | Sector                | 10721998              | 2                     | 5                     | 2                     |\n| CUST-026              | Christine Winarto     | Wanita                | 55                    | Professional          | Cluster               |  5269392              | 2                     | 4                     | 1                     |\n| CUST-027              | Grace Mulyati         | Wanita                | 35                    | Wiraswasta            | Cluster               |  9114159              | 2                     | 5                     | 1                     |\n| CUST-028              | Adeline Huang         | Wanita                | 40                    | Ibu Rumah Tangga      | Cluster               |  6631680              | 2                     | 1                     | 1                     |\n| CUST-029              | Tia Hartanti          | Wanita                | 56                    | Professional          | Cluster               |  5271845              | 2                     | 4                     | 1                     |\n| CUST-030              | Rosita Saragih        | Wanita                | 46                    | Ibu Rumah Tangga      | Sector                |  5020976              | 2                     | 1                     | 2                     |\n| CUST-031              | Eviana Handry         | Wanita                | 19                    | Mahasiswa             | Cluster               |  3042773              | 2                     | 2                     | 1                     |\n| CUST-032              | Chintya Winarni       | Wanita                | 47                    | Wiraswasta            | Sector                | 10663179              | 2                     | 5                     | 2                     |\n| CUST-033              | Cecilia Kusnadi       | Wanita                | 19                    | Mahasiswa             | Cluster               |  3047926              | 2                     | 2                     | 1                     |\n| CUST-034              | Deasy Arisandi        | Wanita                | 21                    | Wiraswasta            | Sector                |  9759822              | 2                     | 5                     | 2                     |\n| CUST-035              | Ida Ayu               | Wanita                | 39                    | Professional          | Sector                |  5962575              | 2                     | 4                     | 2                     |\n| CUST-036              | Ni Made Suasti        | Wanita                | 30                    | Wiraswasta            | Cluster               |  9678994              | 2                     | 5                     | 1                     |\n| CUST-037              | Felicia Tandiono      | Wanita                | 25                    | Professional          | Sector                |  5972787              | 2                     | 4                     | 2                     |\n| CUST-038              | Agatha Salim          | Wanita                | 46                    | Wiraswasta            | Sector                | 10477127              | 2                     | 5                     | 2                     |\n| CUST-039              | Gina Hidayat          | Wanita                | 20                    | Professional          | Cluster               |  5257775              | 2                     | 4                     | 1                     |\n| CUST-040              | Irene Darmawan        | Wanita                | 14                    | Pelajar               | Sector                |  2861855              | 2                     | 3                     | 2                     |\n| CUST-041              | Shinta Aritonang      | Wanita                | 24                    | Ibu Rumah Tangga      | Cluster               |  6820976              | 2                     | 1                     | 1                     |\n| CUST-042              | Yuliana Wati          | Wanita                | 26                    | Wiraswasta            | Cluster               |  9880607              | 2                     | 5                     | 1                     |\n| CUST-043              | Yenna Sumadi          | Wanita                | 31                    | Professional          | Cluster               |  5268410              | 2                     | 4                     | 1                     |\n| CUST-044              | Anna                  | Wanita                | 18                    | Wiraswasta            | Cluster               |  9339737              | 2                     | 5                     | 1                     |\n| CUST-045              | Rismawati Juni        | Wanita                | 22                    | Professional          | Cluster               |  5211041              | 2                     | 4                     | 1                     |\n| CUST-046              | Elfira Surya          | Wanita                | 25                    | Wiraswasta            | Sector                | 10099807              | 2                     | 5                     | 2                     |\n| CUST-047              | Mira Kurnia           | Wanita                | 55                    | Ibu Rumah Tangga      | Cluster               |  6130724              | 2                     | 1                     | 1                     |\n| CUST-048              | Maria Hutagalung      | Wanita                | 45                    | Wiraswasta            | Sector                | 10390732              | 2                     | 5                     | 2                     |\n| CUST-049              | Josephine Wahab       | Wanita                | 33                    | Ibu Rumah Tangga      | Sector                |  4992585              | 2                     | 1                     | 2                     |\n| CUST-050              | Lianna Nugraha        | Wanita                | 55                    | Wiraswasta            | Sector                | 10569316              | 2                     | 5                     | 2                     |\n\n",
            "text/plain": [
              "   Customer_ID Nama.Pelanggan        Jenis.Kelamin Umur Profesi         \n",
              "1  CUST-001    Budi Anggara          Pria          58   Wiraswasta      \n",
              "2  CUST-002    Shirley Ratuwati      Wanita        14   Pelajar         \n",
              "3  CUST-003    Agus Cahyono          Pria          48   Professional    \n",
              "4  CUST-004    Antonius Winarta      Pria          53   Professional    \n",
              "5  CUST-005    Ibu Sri Wahyuni, IR   Wanita        41   Wiraswasta      \n",
              "6  CUST-006    Rosalina Kurnia       Wanita        24   Professional    \n",
              "7  CUST-007    Cahyono, Agus         Pria          64   Wiraswasta      \n",
              "8  CUST-008    Danang Santosa        Pria          52   Professional    \n",
              "9  CUST-009    Elisabeth Suryadinata Wanita        29   Professional    \n",
              "10 CUST-010    Mario Setiawan        Pria          33   Professional    \n",
              "11 CUST-011    Maria Suryawan        Wanita        50   Professional    \n",
              "12 CUST-012    Erliana Widjaja       Wanita        49   Professional    \n",
              "13 CUST-013    Cahaya Putri          Wanita        64   Wiraswasta      \n",
              "14 CUST-014    Mario Setiawan        Pria          60   Wiraswasta      \n",
              "15 CUST-015    Shirley Ratuwati      Wanita        20   Wiraswasta      \n",
              "16 CUST-016    Bambang Rudi          Pria          35   Professional    \n",
              "17 CUST-017    Yuni Sari             Wanita        32   Ibu Rumah Tangga\n",
              "18 CUST-018    Nelly Halim           Wanita        63   Ibu Rumah Tangga\n",
              "19 CUST-019    Mega Pranoto          Wanita        32   Wiraswasta      \n",
              "20 CUST-020    Irene Novianto        Wanita        16   Pelajar         \n",
              "21 CUST-021    Lestari Fabianto      Wanita        38   Wiraswasta      \n",
              "22 CUST-022    Novita Purba          Wanita        52   Professional    \n",
              "23 CUST-023    Denny Amiruddin       Pria          34   Professional    \n",
              "24 CUST-024    Putri Ginting         Wanita        39   Wiraswasta      \n",
              "25 CUST-025    Julia Setiawan        Wanita        29   Wiraswasta      \n",
              "26 CUST-026    Christine Winarto     Wanita        55   Professional    \n",
              "27 CUST-027    Grace Mulyati         Wanita        35   Wiraswasta      \n",
              "28 CUST-028    Adeline Huang         Wanita        40   Ibu Rumah Tangga\n",
              "29 CUST-029    Tia Hartanti          Wanita        56   Professional    \n",
              "30 CUST-030    Rosita Saragih        Wanita        46   Ibu Rumah Tangga\n",
              "31 CUST-031    Eviana Handry         Wanita        19   Mahasiswa       \n",
              "32 CUST-032    Chintya Winarni       Wanita        47   Wiraswasta      \n",
              "33 CUST-033    Cecilia Kusnadi       Wanita        19   Mahasiswa       \n",
              "34 CUST-034    Deasy Arisandi        Wanita        21   Wiraswasta      \n",
              "35 CUST-035    Ida Ayu               Wanita        39   Professional    \n",
              "36 CUST-036    Ni Made Suasti        Wanita        30   Wiraswasta      \n",
              "37 CUST-037    Felicia Tandiono      Wanita        25   Professional    \n",
              "38 CUST-038    Agatha Salim          Wanita        46   Wiraswasta      \n",
              "39 CUST-039    Gina Hidayat          Wanita        20   Professional    \n",
              "40 CUST-040    Irene Darmawan        Wanita        14   Pelajar         \n",
              "41 CUST-041    Shinta Aritonang      Wanita        24   Ibu Rumah Tangga\n",
              "42 CUST-042    Yuliana Wati          Wanita        26   Wiraswasta      \n",
              "43 CUST-043    Yenna Sumadi          Wanita        31   Professional    \n",
              "44 CUST-044    Anna                  Wanita        18   Wiraswasta      \n",
              "45 CUST-045    Rismawati Juni        Wanita        22   Professional    \n",
              "46 CUST-046    Elfira Surya          Wanita        25   Wiraswasta      \n",
              "47 CUST-047    Mira Kurnia           Wanita        55   Ibu Rumah Tangga\n",
              "48 CUST-048    Maria Hutagalung      Wanita        45   Wiraswasta      \n",
              "49 CUST-049    Josephine Wahab       Wanita        33   Ibu Rumah Tangga\n",
              "50 CUST-050    Lianna Nugraha        Wanita        55   Wiraswasta      \n",
              "   Tipe.Residen NilaiBelanjaSetahun Jenis.Kelamin.1 Profesi.1 Tipe.Residen.1\n",
              "1  Sector        9497927            1               5         2             \n",
              "2  Cluster       2722700            2               3         1             \n",
              "3  Cluster       5286429            1               4         1             \n",
              "4  Cluster       5204498            1               4         1             \n",
              "5  Cluster      10615206            2               5         1             \n",
              "6  Cluster       5215541            2               4         1             \n",
              "7  Sector        9837260            1               5         2             \n",
              "8  Cluster       5223569            1               4         1             \n",
              "9  Sector        5993218            2               4         2             \n",
              "10 Cluster       5257448            1               4         1             \n",
              "11 Sector        5987367            2               4         2             \n",
              "12 Sector        5941914            2               4         2             \n",
              "13 Cluster       9333168            2               5         1             \n",
              "14 Cluster       9471615            1               5         1             \n",
              "15 Cluster      10365668            2               5         1             \n",
              "16 Cluster       5262521            1               4         1             \n",
              "17 Cluster       5677762            2               1         1             \n",
              "18 Cluster       5340690            2               1         1             \n",
              "19 Cluster      10884508            2               5         1             \n",
              "20 Sector        2896845            2               3         2             \n",
              "21 Cluster       9222070            2               5         1             \n",
              "22 Cluster       5298157            2               4         1             \n",
              "23 Cluster       5239290            1               4         1             \n",
              "24 Cluster      10259572            2               5         1             \n",
              "25 Sector       10721998            2               5         2             \n",
              "26 Cluster       5269392            2               4         1             \n",
              "27 Cluster       9114159            2               5         1             \n",
              "28 Cluster       6631680            2               1         1             \n",
              "29 Cluster       5271845            2               4         1             \n",
              "30 Sector        5020976            2               1         2             \n",
              "31 Cluster       3042773            2               2         1             \n",
              "32 Sector       10663179            2               5         2             \n",
              "33 Cluster       3047926            2               2         1             \n",
              "34 Sector        9759822            2               5         2             \n",
              "35 Sector        5962575            2               4         2             \n",
              "36 Cluster       9678994            2               5         1             \n",
              "37 Sector        5972787            2               4         2             \n",
              "38 Sector       10477127            2               5         2             \n",
              "39 Cluster       5257775            2               4         1             \n",
              "40 Sector        2861855            2               3         2             \n",
              "41 Cluster       6820976            2               1         1             \n",
              "42 Cluster       9880607            2               5         1             \n",
              "43 Cluster       5268410            2               4         1             \n",
              "44 Cluster       9339737            2               5         1             \n",
              "45 Cluster       5211041            2               4         1             \n",
              "46 Sector       10099807            2               5         2             \n",
              "47 Cluster       6130724            2               1         1             \n",
              "48 Sector       10390732            2               5         2             \n",
              "49 Sector        4992585            2               1         2             \n",
              "50 Sector       10569316            2               5         2             "
            ]
          },
          "metadata": {
            "tags": []
          }
        }
      ]
    },
    {
      "cell_type": "markdown",
      "metadata": {
        "id": "manual-center"
      },
      "source": [
        "## Menormalisasikan Nilai Belanja"
      ],
      "id": "manual-center"
    },
    {
      "cell_type": "code",
      "metadata": {
        "id": "color-telephone"
      },
      "source": [
        "pelanggan <- read.csv(\"https://storage.googleapis.com/dqlab-dataset/customer_segments.txt\", sep=\"\\t\")\n",
        "pelanggan_matrix <- data.matrix(pelanggan[c(\"Jenis.Kelamin\", \"Profesi\", \"Tipe.Residen\")])\n",
        "pelanggan <- data.frame(pelanggan, pelanggan_matrix)\n",
        "#Normalisasi Nilai\n",
        "pelanggan$NilaiBelanjaSetahun <- pelanggan$NilaiBelanjaSetahun/1000000\n"
      ],
      "id": "color-telephone",
      "execution_count": null,
      "outputs": []
    },
    {
      "cell_type": "markdown",
      "metadata": {
        "id": "talented-payroll"
      },
      "source": [
        "## Membuat Data Master"
      ],
      "id": "talented-payroll"
    },
    {
      "cell_type": "code",
      "metadata": {
        "id": "declared-geography"
      },
      "source": [
        "pelanggan <- read.csv(\"https://storage.googleapis.com/dqlab-dataset/customer_segments.txt\",sep=\"\\t\")\n",
        "pelanggan_matrix <- data.matrix(pelanggan[c(\"Jenis.Kelamin\", \"Profesi\", \"Tipe.Residen\")])\n",
        "pelanggan <- data.frame(pelanggan, pelanggan_matrix)\n",
        "pelanggan$NilaiBelanjaSetahun = pelanggan$NilaiBelanjaSetahun/1000000\n",
        "#Mengisi data master\n",
        "Profesi <- unique(pelanggan[c(\"Profesi\",\"Profesi.1\")])\n",
        "Jenis.Kelamin <- unique(pelanggan[c(\"Jenis.Kelamin\",\"Jenis.Kelamin.1\")])\n",
        "Tipe.Residen <- unique(pelanggan[c(\"Tipe.Residen\",\"Tipe.Residen.1\")])\n"
      ],
      "id": "declared-geography",
      "execution_count": null,
      "outputs": []
    },
    {
      "cell_type": "code",
      "metadata": {
        "id": "thermal-genetics"
      },
      "source": [
        ""
      ],
      "id": "thermal-genetics",
      "execution_count": null,
      "outputs": []
    }
  ]
}