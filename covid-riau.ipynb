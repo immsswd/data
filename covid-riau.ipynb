{
 "cells": [
  {
   "cell_type": "markdown",
   "source": [
    "Sumber data dari [Gov Indo](covid19.go.id)"
   ],
   "metadata": {}
  },
  {
   "cell_type": "code",
   "execution_count": 1,
   "source": [
    "import requests\r\n",
    "import pandas as pd\r\n",
    "\r\n",
    "resp_riau = requests.get('https://data.covid19.go.id/public/api/prov_detail_RIAU.json')\r\n",
    "# lihat response status code dengan print\r\n",
    "resp_riau"
   ],
   "outputs": [
    {
     "output_type": "execute_result",
     "data": {
      "text/plain": [
       "<Response [200]>"
      ]
     },
     "metadata": {},
     "execution_count": 1
    }
   ],
   "metadata": {}
  },
  {
   "cell_type": "markdown",
   "source": [
    "Lihat isi data mentah dari json dengan fungsi `.json()`"
   ],
   "metadata": {}
  },
  {
   "cell_type": "code",
   "execution_count": null,
   "source": [
    "cov_riau_raw = resp_riau.json()\r\n",
    "cov_riau_raw"
   ],
   "outputs": [],
   "metadata": {}
  },
  {
   "cell_type": "markdown",
   "source": [
    "**Sekarang jalankanlah method `keys()` pada cov_jabar_raw tersebut untuk mengetahui nama-nama elemen utama yang tersedia**"
   ],
   "metadata": {}
  },
  {
   "cell_type": "code",
   "execution_count": 4,
   "source": [
    "print(\"nama-nama elemen utama\", cov_riau_raw.keys())"
   ],
   "outputs": [
    {
     "output_type": "stream",
     "name": "stdout",
     "text": [
      "nama-nama elemen utama dict_keys(['last_date', 'provinsi', 'kasus_total', 'kasus_tanpa_tgl', 'kasus_dengan_tgl', 'meninggal_persen', 'meninggal_tanpa_tgl', 'meninggal_dengan_tgl', 'sembuh_persen', 'sembuh_tanpa_tgl', 'sembuh_dengan_tgl', 'list_perkembangan', 'data'])\n"
     ]
    }
   ],
   "metadata": {}
  },
  {
   "cell_type": "code",
   "execution_count": 5,
   "source": [
    "print('\\nJumlah total kasus COVID-19 di Riau    : %d' %cov_riau_raw['kasus_total'])\r\n",
    "print('Persentase kematian akibat COVID-19 di Riau ', cov_riau_raw['meninggal_persen'],'%')\r\n",
    "print('Persentase tingkat kesembuhan dari COVID-19 di Riau:    %f.2%%' %cov_riau_raw['sembuh_persen'])"
   ],
   "outputs": [
    {
     "output_type": "stream",
     "name": "stdout",
     "text": [
      "\n",
      "Jumlah total kasus COVID-19 di Riau    : 119568\n",
      "Persentase kematian akibat COVID-19 di Riau  2.923859226548909 %\n",
      "Persentase tingkat kesembuhan dari COVID-19 di Riau:    90.384551.2%\n"
     ]
    }
   ],
   "metadata": {}
  },
  {
   "cell_type": "code",
   "execution_count": 6,
   "source": [
    "cov_riau = pd.DataFrame(cov_riau_raw['list_perkembangan'])\r\n",
    "\r\n",
    "#cov_riau.to_excel('riau_list_perkembangan.xlsx')\r\n",
    "print('Info cov_riau:\\n', cov_riau.info)\r\n",
    "print('\\nLima data teratas cov_riau:\\n', cov_riau.head())"
   ],
   "outputs": [
    {
     "output_type": "stream",
     "name": "stdout",
     "text": [
      "Info cov_riau:\n",
      " <bound method DataFrame.info of            tanggal  KASUS  MENINGGAL  SEMBUH  DIRAWAT_OR_ISOLASI  \\\n",
      "0    1583107200000      1          0       0                   1   \n",
      "1    1583193600000      0          0       0                   0   \n",
      "2    1583280000000      0          0       0                   0   \n",
      "3    1583366400000      0          0       0                   0   \n",
      "4    1583452800000      0          0       0                   0   \n",
      "..             ...    ...        ...     ...                 ...   \n",
      "534  1629244800000    589         30    1098                -539   \n",
      "535  1629331200000    834         28     702                 104   \n",
      "536  1629417600000    764         30    1188                -454   \n",
      "537  1629504000000    610         43    1118                -551   \n",
      "538  1629590400000    568         29     669                -130   \n",
      "\n",
      "     AKUMULASI_KASUS  AKUMULASI_SEMBUH  AKUMULASI_MENINGGAL  \\\n",
      "0                  1                 0                    0   \n",
      "1                  1                 0                    0   \n",
      "2                  1                 0                    0   \n",
      "3                  1                 0                    0   \n",
      "4                  1                 0                    0   \n",
      "..               ...               ...                  ...   \n",
      "534           116792            103373                 3337   \n",
      "535           117626            104075                 3365   \n",
      "536           118390            105263                 3395   \n",
      "537           119000            106381                 3438   \n",
      "538           119568            107050                 3467   \n",
      "\n",
      "     AKUMULASI_DIRAWAT_OR_ISOLASI  \n",
      "0                               1  \n",
      "1                               1  \n",
      "2                               1  \n",
      "3                               1  \n",
      "4                               1  \n",
      "..                            ...  \n",
      "534                         10082  \n",
      "535                         10186  \n",
      "536                          9732  \n",
      "537                          9181  \n",
      "538                          9051  \n",
      "\n",
      "[539 rows x 9 columns]>\n",
      "\n",
      "Lima data teratas cov_riau:\n",
      "          tanggal  KASUS  MENINGGAL  SEMBUH  DIRAWAT_OR_ISOLASI  \\\n",
      "0  1583107200000      1          0       0                   1   \n",
      "1  1583193600000      0          0       0                   0   \n",
      "2  1583280000000      0          0       0                   0   \n",
      "3  1583366400000      0          0       0                   0   \n",
      "4  1583452800000      0          0       0                   0   \n",
      "\n",
      "   AKUMULASI_KASUS  AKUMULASI_SEMBUH  AKUMULASI_MENINGGAL  \\\n",
      "0                1                 0                    0   \n",
      "1                1                 0                    0   \n",
      "2                1                 0                    0   \n",
      "3                1                 0                    0   \n",
      "4                1                 0                    0   \n",
      "\n",
      "   AKUMULASI_DIRAWAT_OR_ISOLASI  \n",
      "0                             1  \n",
      "1                             1  \n",
      "2                             1  \n",
      "3                             1  \n",
      "4                             1  \n"
     ]
    }
   ],
   "metadata": {}
  },
  {
   "cell_type": "markdown",
   "source": [
    "*next*"
   ],
   "metadata": {}
  }
 ],
 "metadata": {
  "orig_nbformat": 4,
  "language_info": {
   "name": "python",
   "version": "3.9.6",
   "mimetype": "text/x-python",
   "codemirror_mode": {
    "name": "ipython",
    "version": 3
   },
   "pygments_lexer": "ipython3",
   "nbconvert_exporter": "python",
   "file_extension": ".py"
  },
  "kernelspec": {
   "name": "python3",
   "display_name": "Python 3.9.6 64-bit"
  },
  "interpreter": {
   "hash": "8b03d4cd05d71d535371b426da57de743181e37d8974a9636efe6e78873daaed"
  }
 },
 "nbformat": 4,
 "nbformat_minor": 2
}